{
 "cells": [
  {
   "cell_type": "code",
   "execution_count": 1,
   "metadata": {},
   "outputs": [],
   "source": [
    "from shogun import *\n",
    "import numpy as np\n",
    "import pandas as pd\n",
    "import matplotlib.pyplot as plt\n",
    "from sklearn.impute import SimpleImputer\n",
    "from sklearn.preprocessing import LabelEncoder\n",
    "from sklearn import datasets"
   ]
  },
  {
   "cell_type": "code",
   "execution_count": 2,
   "metadata": {},
   "outputs": [],
   "source": [
    "df = pd.read_csv('../data/nyc-sales.csv')"
   ]
  },
  {
   "cell_type": "code",
   "execution_count": 3,
   "metadata": {},
   "outputs": [],
   "source": [
    "for i in range(len(df)):\n",
    "    if(df.loc[i,'SALE PRICE'] == ' -  '):\n",
    "        df.at[i,'SALE PRICE'] = np.nan\n",
    "        \n",
    "# test is the data with 'SALE PRICE' == NaN\n",
    "df_test = df[df['SALE PRICE'].isna()]\n",
    "\n",
    "#train is the cleaned data\n",
    "df_train = df[df['SALE PRICE'].notna()]\n"
   ]
  },
  {
   "cell_type": "code",
   "execution_count": 4,
   "metadata": {},
   "outputs": [],
   "source": [
    "# training set\n",
    "col_x = [col for col in df.columns\n",
    "      if col != 'SALE PRICE']\n",
    "X_train = df_train[col_x]"
   ]
  },
  {
   "cell_type": "code",
   "execution_count": 5,
   "metadata": {},
   "outputs": [],
   "source": [
    "# target variable\n",
    "target = ['SALE PRICE']\n",
    "y_train = df_train[target]\n"
   ]
  },
  {
   "cell_type": "code",
   "execution_count": 6,
   "metadata": {},
   "outputs": [],
   "source": [
    "# the string value that needed to be changed\n",
    "#     if(val==[' -  ']):\n",
    "\n",
    "# Test sets\n",
    "y_test = df_test[target]\n",
    "X_test = df_test[col_x]"
   ]
  },
  {
   "cell_type": "code",
   "execution_count": 7,
   "metadata": {},
   "outputs": [],
   "source": [
    "# imputer not required\n",
    "# myimputer = SimpleImputer(strategy='median')  \n",
    "\n",
    "encoder = LabelEncoder()\n",
    "\n",
    "s = (X_train.dtypes == 'object')\n",
    "\n",
    "cat_vars = list(s[s].index)\n",
    "\n",
    "# print(cat_vars)"
   ]
  },
  {
   "cell_type": "code",
   "execution_count": 8,
   "metadata": {},
   "outputs": [],
   "source": [
    "# drop the unwanted columns\n",
    "X_new = X_train.drop(columns=['Unnamed: 0','NEIGHBORHOOD','ADDRESS','EASE-MENT','BUILDING CLASS CATEGORY','SALE DATE','APARTMENT NUMBER'])\n",
    "\n",
    "# X_new.head()"
   ]
  },
  {
   "cell_type": "code",
   "execution_count": 9,
   "metadata": {},
   "outputs": [],
   "source": [
    "s = (X_new.dtypes == 'object')\n",
    "cat_varsx = list(s[s].index)\n",
    "# print(cat_varsx)"
   ]
  },
  {
   "cell_type": "code",
   "execution_count": 10,
   "metadata": {},
   "outputs": [],
   "source": [
    "#  Labeling properly the columns with object data type\n",
    "le = LabelEncoder()\n",
    "\n",
    "label_X = X_new.copy()\n",
    "for col in cat_varsx:\n",
    "    label_X[col] = le.fit_transform(X_new[col])\n",
    "    \n",
    "# label_X contains the cleaned up training set\n"
   ]
  },
  {
   "cell_type": "code",
   "execution_count": 11,
   "metadata": {},
   "outputs": [],
   "source": [
    "#Dropping some data to account for Memory error, see issue #2\n",
    "label_X = label_X[:10000]\n",
    "y_train = y_train[:10000]\n"
   ]
  },
  {
   "cell_type": "code",
   "execution_count": 12,
   "metadata": {},
   "outputs": [
    {
     "name": "stdout",
     "output_type": "stream",
     "text": [
      "22.480963706970215\n"
     ]
    }
   ],
   "source": [
    "# contains the error\n",
    "\n",
    "from time import time\n",
    "from sklearn.kernel_ridge import KernelRidge\n",
    "\n",
    "t0 = time()\n",
    "skr = KernelRidge(kernel='rbf', gamma=0.1)\n",
    "skr.fit(label_X, y_train)\n",
    "tsk1 = time() - t0\n",
    "print(tsk1)"
   ]
  },
  {
   "cell_type": "code",
   "execution_count": 13,
   "metadata": {},
   "outputs": [],
   "source": [
    "#Convert features and labels suitable for shogun\n",
    "\n",
    "label_X= label_X.to_numpy().astype(float)\n",
    "y_train = y_train.to_numpy().astype(float)\n",
    "y_train = y_train.reshape(y_train.shape[0],) #reshape to (num_samples,)"
   ]
  },
  {
   "cell_type": "code",
   "execution_count": 14,
   "metadata": {},
   "outputs": [
    {
     "name": "stdout",
     "output_type": "stream",
     "text": [
      "65.07133722305298\n"
     ]
    }
   ],
   "source": [
    "from shogun import *\n",
    "\n",
    "\n",
    "train_features = RealFeatures(label_X.T)\n",
    "labels_train = RegressionLabels(y_train)\n",
    "\n",
    "\n",
    "width = 0.1\n",
    "kernel = GaussianKernel(train_features, train_features, width)\n",
    "tau = 1\n",
    "\n",
    "t0=time()\n",
    "krr = KernelRidgeRegression(tau, kernel, labels_train)\n",
    "krr.train()\n",
    "tsg1=time()-t0\n",
    "\n",
    "print(tsg1) "
   ]
  },
  {
   "cell_type": "code",
   "execution_count": 15,
   "metadata": {},
   "outputs": [
    {
     "name": "stdout",
     "output_type": "stream",
     "text": [
      "----------------------------------------\n",
      "############ Final remarks  ############\n",
      "----------------------------------------\n",
      "\n",
      "\n",
      "Sklearn training time: 22.480963706970215\n",
      "Shogun training time: 65.07133722305298\n",
      "Performance gap: 42.590373516082764\n",
      "\n",
      "\n",
      "----------------------------------------\n"
     ]
    }
   ],
   "source": [
    "#Final remarks\n",
    "print('----------------------------------------')\n",
    "print(\"############ Final remarks  ############\")\n",
    "print('----------------------------------------')\n",
    "print(\"\\n\")\n",
    "print(\"Sklearn training time: \" + str(tsk1))\n",
    "print(\"Shogun training time: \" + str(tsg1))\n",
    "print(\"Performance gap: \" + str(tsg1 - tsk1))\n",
    "print(\"\\n\")\n",
    "print('----------------------------------------')\n"
   ]
  }
 ],
 "metadata": {
  "file_extension": ".py",
  "kernelspec": {
   "display_name": "Python 3",
   "language": "python",
   "name": "python3"
  },
  "language_info": {
   "codemirror_mode": {
    "name": "ipython",
    "version": 3
   },
   "file_extension": ".py",
   "mimetype": "text/x-python",
   "name": "python",
   "nbconvert_exporter": "python",
   "pygments_lexer": "ipython3",
   "version": "3.6.10"
  },
  "mimetype": "text/x-python",
  "name": "python",
  "npconvert_exporter": "python",
  "pygments_lexer": "ipython2",
  "version": 2
 },
 "nbformat": 4,
 "nbformat_minor": 2
}
