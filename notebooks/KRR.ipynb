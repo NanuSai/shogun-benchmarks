{
 "cells": [
  {
   "cell_type": "code",
   "execution_count": 1,
   "metadata": {},
   "outputs": [],
   "source": [
    "from shogun import *\n",
    "import numpy as np\n",
    "import pandas as pd\n",
    "import matplotlib.pyplot as plt\n",
    "from sklearn.impute import SimpleImputer\n",
    "from sklearn.preprocessing import LabelEncoder"
   ]
  },
  {
   "cell_type": "code",
   "execution_count": 17,
   "metadata": {},
   "outputs": [
    {
     "data": {
      "text/html": "<div>\n<style scoped>\n    .dataframe tbody tr th:only-of-type {\n        vertical-align: middle;\n    }\n\n    .dataframe tbody tr th {\n        vertical-align: top;\n    }\n\n    .dataframe thead th {\n        text-align: right;\n    }\n</style>\n<table border=\"1\" class=\"dataframe\">\n  <thead>\n    <tr style=\"text-align: right;\">\n      <th></th>\n      <th>Unnamed: 0</th>\n      <th>BOROUGH</th>\n      <th>NEIGHBORHOOD</th>\n      <th>BUILDING CLASS CATEGORY</th>\n      <th>TAX CLASS AT PRESENT</th>\n      <th>BLOCK</th>\n      <th>LOT</th>\n      <th>EASE-MENT</th>\n      <th>BUILDING CLASS AT PRESENT</th>\n      <th>ADDRESS</th>\n      <th>...</th>\n      <th>RESIDENTIAL UNITS</th>\n      <th>COMMERCIAL UNITS</th>\n      <th>TOTAL UNITS</th>\n      <th>LAND SQUARE FEET</th>\n      <th>GROSS SQUARE FEET</th>\n      <th>YEAR BUILT</th>\n      <th>TAX CLASS AT TIME OF SALE</th>\n      <th>BUILDING CLASS AT TIME OF SALE</th>\n      <th>SALE PRICE</th>\n      <th>SALE DATE</th>\n    </tr>\n  </thead>\n  <tbody>\n    <tr>\n      <th>0</th>\n      <td>4</td>\n      <td>1</td>\n      <td>ALPHABET CITY</td>\n      <td>07 RENTALS - WALKUP APARTMENTS</td>\n      <td>2A</td>\n      <td>392</td>\n      <td>6</td>\n      <td></td>\n      <td>C2</td>\n      <td>153 AVENUE B</td>\n      <td>...</td>\n      <td>5</td>\n      <td>0</td>\n      <td>5</td>\n      <td>1633</td>\n      <td>6440</td>\n      <td>1900</td>\n      <td>2</td>\n      <td>C2</td>\n      <td>6625000</td>\n      <td>2017-07-19 00:00:00</td>\n    </tr>\n    <tr>\n      <th>1</th>\n      <td>5</td>\n      <td>1</td>\n      <td>ALPHABET CITY</td>\n      <td>07 RENTALS - WALKUP APARTMENTS</td>\n      <td>2</td>\n      <td>399</td>\n      <td>26</td>\n      <td></td>\n      <td>C7</td>\n      <td>234 EAST 4TH   STREET</td>\n      <td>...</td>\n      <td>28</td>\n      <td>3</td>\n      <td>31</td>\n      <td>4616</td>\n      <td>18690</td>\n      <td>1900</td>\n      <td>2</td>\n      <td>C7</td>\n      <td>-</td>\n      <td>2016-12-14 00:00:00</td>\n    </tr>\n    <tr>\n      <th>2</th>\n      <td>6</td>\n      <td>1</td>\n      <td>ALPHABET CITY</td>\n      <td>07 RENTALS - WALKUP APARTMENTS</td>\n      <td>2</td>\n      <td>399</td>\n      <td>39</td>\n      <td></td>\n      <td>C7</td>\n      <td>197 EAST 3RD   STREET</td>\n      <td>...</td>\n      <td>16</td>\n      <td>1</td>\n      <td>17</td>\n      <td>2212</td>\n      <td>7803</td>\n      <td>1900</td>\n      <td>2</td>\n      <td>C7</td>\n      <td>-</td>\n      <td>2016-12-09 00:00:00</td>\n    </tr>\n    <tr>\n      <th>3</th>\n      <td>7</td>\n      <td>1</td>\n      <td>ALPHABET CITY</td>\n      <td>07 RENTALS - WALKUP APARTMENTS</td>\n      <td>2B</td>\n      <td>402</td>\n      <td>21</td>\n      <td></td>\n      <td>C4</td>\n      <td>154 EAST 7TH STREET</td>\n      <td>...</td>\n      <td>10</td>\n      <td>0</td>\n      <td>10</td>\n      <td>2272</td>\n      <td>6794</td>\n      <td>1913</td>\n      <td>2</td>\n      <td>C4</td>\n      <td>3936272</td>\n      <td>2016-09-23 00:00:00</td>\n    </tr>\n    <tr>\n      <th>4</th>\n      <td>8</td>\n      <td>1</td>\n      <td>ALPHABET CITY</td>\n      <td>07 RENTALS - WALKUP APARTMENTS</td>\n      <td>2A</td>\n      <td>404</td>\n      <td>55</td>\n      <td></td>\n      <td>C2</td>\n      <td>301 EAST 10TH   STREET</td>\n      <td>...</td>\n      <td>6</td>\n      <td>0</td>\n      <td>6</td>\n      <td>2369</td>\n      <td>4615</td>\n      <td>1900</td>\n      <td>2</td>\n      <td>C2</td>\n      <td>8000000</td>\n      <td>2016-11-17 00:00:00</td>\n    </tr>\n  </tbody>\n</table>\n<p>5 rows × 22 columns</p>\n</div>",
      "text/plain": "   Unnamed: 0  BOROUGH   NEIGHBORHOOD  \\\n0           4        1  ALPHABET CITY   \n1           5        1  ALPHABET CITY   \n2           6        1  ALPHABET CITY   \n3           7        1  ALPHABET CITY   \n4           8        1  ALPHABET CITY   \n\n                       BUILDING CLASS CATEGORY TAX CLASS AT PRESENT  BLOCK  \\\n0  07 RENTALS - WALKUP APARTMENTS                                2A    392   \n1  07 RENTALS - WALKUP APARTMENTS                                 2    399   \n2  07 RENTALS - WALKUP APARTMENTS                                 2    399   \n3  07 RENTALS - WALKUP APARTMENTS                                2B    402   \n4  07 RENTALS - WALKUP APARTMENTS                                2A    404   \n\n   LOT EASE-MENT BUILDING CLASS AT PRESENT                 ADDRESS  ...  \\\n0    6                                  C2            153 AVENUE B  ...   \n1   26                                  C7   234 EAST 4TH   STREET  ...   \n2   39                                  C7   197 EAST 3RD   STREET  ...   \n3   21                                  C4     154 EAST 7TH STREET  ...   \n4   55                                  C2  301 EAST 10TH   STREET  ...   \n\n  RESIDENTIAL UNITS  COMMERCIAL UNITS  TOTAL UNITS  LAND SQUARE FEET  \\\n0                 5                 0            5              1633   \n1                28                 3           31              4616   \n2                16                 1           17              2212   \n3                10                 0           10              2272   \n4                 6                 0            6              2369   \n\n   GROSS SQUARE FEET YEAR BUILT TAX CLASS AT TIME OF SALE  \\\n0               6440       1900                         2   \n1              18690       1900                         2   \n2               7803       1900                         2   \n3               6794       1913                         2   \n4               4615       1900                         2   \n\n   BUILDING CLASS AT TIME OF SALE  SALE PRICE            SALE DATE  \n0                              C2     6625000  2017-07-19 00:00:00  \n1                              C7         -    2016-12-14 00:00:00  \n2                              C7         -    2016-12-09 00:00:00  \n3                              C4     3936272  2016-09-23 00:00:00  \n4                              C2     8000000  2016-11-17 00:00:00  \n\n[5 rows x 22 columns]"
     },
     "execution_count": 17,
     "metadata": {},
     "output_type": "execute_result"
    }
   ],
   "source": [
    "df = pd.read_csv('../data/nyc-sales.csv')\n",
    "df.head()"
   ]
  },
  {
   "cell_type": "code",
   "execution_count": 3,
   "metadata": {},
   "outputs": [],
   "source": [
    "for i in range(len(df)):\n",
    "    if(df.loc[i,'SALE PRICE'] == ' -  '):\n",
    "        df.at[i,'SALE PRICE'] = np.nan\n",
    "        \n",
    "# test is the data with 'SALE PRICE' == NaN\n",
    "df_test = df[df['SALE PRICE'].isna()]\n",
    "\n",
    "#train is the cleaned data\n",
    "df_train = df[df['SALE PRICE'].notna()]\n"
   ]
  },
  {
   "cell_type": "code",
   "execution_count": 4,
   "metadata": {},
   "outputs": [],
   "source": [
    "# training set\n",
    "col_x = [col for col in df.columns\n",
    "      if col != 'SALE PRICE']\n",
    "X_train = df_train[col_x]"
   ]
  },
  {
   "cell_type": "code",
   "execution_count": 5,
   "metadata": {},
   "outputs": [],
   "source": [
    "# target variable\n",
    "target = ['SALE PRICE']\n",
    "y_train = df_train[target]\n"
   ]
  },
  {
   "cell_type": "code",
   "execution_count": 7,
   "metadata": {},
   "outputs": [],
   "source": [
    "# imputer not required\n",
    "# myimputer = SimpleImputer(strategy='median')  \n",
    "\n",
    "encoder = LabelEncoder()\n",
    "\n",
    "s = (X_train.dtypes == 'object')\n",
    "\n",
    "cat_vars = list(s[s].index)\n",
    "\n",
    "# print(cat_vars)"
   ]
  },
  {
   "cell_type": "code",
   "execution_count": 8,
   "metadata": {},
   "outputs": [],
   "source": [
    "# drop the unwanted columns\n",
    "X_new = X_train.drop(columns=['Unnamed: 0','NEIGHBORHOOD','ADDRESS','EASE-MENT','BUILDING CLASS CATEGORY','SALE DATE','APARTMENT NUMBER'])\n",
    "\n",
    "# X_new.head()"
   ]
  },
  {
   "cell_type": "code",
   "execution_count": 9,
   "metadata": {},
   "outputs": [],
   "source": [
    "s = (X_new.dtypes == 'object')\n",
    "cat_varsx = list(s[s].index)\n",
    "# print(cat_varsx)"
   ]
  },
  {
   "cell_type": "code",
   "execution_count": 18,
   "metadata": {},
   "outputs": [
    {
     "data": {
      "text/html": "<div>\n<style scoped>\n    .dataframe tbody tr th:only-of-type {\n        vertical-align: middle;\n    }\n\n    .dataframe tbody tr th {\n        vertical-align: top;\n    }\n\n    .dataframe thead th {\n        text-align: right;\n    }\n</style>\n<table border=\"1\" class=\"dataframe\">\n  <thead>\n    <tr style=\"text-align: right;\">\n      <th></th>\n      <th>BOROUGH</th>\n      <th>TAX CLASS AT PRESENT</th>\n      <th>BLOCK</th>\n      <th>LOT</th>\n      <th>BUILDING CLASS AT PRESENT</th>\n      <th>ZIP CODE</th>\n      <th>RESIDENTIAL UNITS</th>\n      <th>COMMERCIAL UNITS</th>\n      <th>TOTAL UNITS</th>\n      <th>LAND SQUARE FEET</th>\n      <th>GROSS SQUARE FEET</th>\n      <th>YEAR BUILT</th>\n      <th>TAX CLASS AT TIME OF SALE</th>\n      <th>BUILDING CLASS AT TIME OF SALE</th>\n    </tr>\n  </thead>\n  <tbody>\n    <tr>\n      <th>0</th>\n      <td>1</td>\n      <td>6</td>\n      <td>392</td>\n      <td>6</td>\n      <td>16</td>\n      <td>10009</td>\n      <td>5</td>\n      <td>0</td>\n      <td>5</td>\n      <td>916</td>\n      <td>4378</td>\n      <td>1900</td>\n      <td>2</td>\n      <td>15</td>\n    </tr>\n    <tr>\n      <th>3</th>\n      <td>1</td>\n      <td>7</td>\n      <td>402</td>\n      <td>21</td>\n      <td>18</td>\n      <td>10009</td>\n      <td>10</td>\n      <td>0</td>\n      <td>10</td>\n      <td>1712</td>\n      <td>4464</td>\n      <td>1913</td>\n      <td>2</td>\n      <td>17</td>\n    </tr>\n    <tr>\n      <th>4</th>\n      <td>1</td>\n      <td>6</td>\n      <td>404</td>\n      <td>55</td>\n      <td>16</td>\n      <td>10009</td>\n      <td>6</td>\n      <td>0</td>\n      <td>6</td>\n      <td>1828</td>\n      <td>3728</td>\n      <td>1900</td>\n      <td>2</td>\n      <td>15</td>\n    </tr>\n    <tr>\n      <th>6</th>\n      <td>1</td>\n      <td>7</td>\n      <td>406</td>\n      <td>32</td>\n      <td>18</td>\n      <td>10009</td>\n      <td>8</td>\n      <td>0</td>\n      <td>8</td>\n      <td>1070</td>\n      <td>3537</td>\n      <td>1920</td>\n      <td>2</td>\n      <td>17</td>\n    </tr>\n    <tr>\n      <th>9</th>\n      <td>1</td>\n      <td>5</td>\n      <td>387</td>\n      <td>153</td>\n      <td>34</td>\n      <td>10009</td>\n      <td>24</td>\n      <td>0</td>\n      <td>24</td>\n      <td>3615</td>\n      <td>1265</td>\n      <td>1920</td>\n      <td>2</td>\n      <td>33</td>\n    </tr>\n    <tr>\n      <th>...</th>\n      <td>...</td>\n      <td>...</td>\n      <td>...</td>\n      <td>...</td>\n      <td>...</td>\n      <td>...</td>\n      <td>...</td>\n      <td>...</td>\n      <td>...</td>\n      <td>...</td>\n      <td>...</td>\n      <td>...</td>\n      <td>...</td>\n      <td>...</td>\n    </tr>\n    <tr>\n      <th>84543</th>\n      <td>5</td>\n      <td>1</td>\n      <td>7349</td>\n      <td>34</td>\n      <td>13</td>\n      <td>10309</td>\n      <td>2</td>\n      <td>0</td>\n      <td>2</td>\n      <td>1864</td>\n      <td>2119</td>\n      <td>1998</td>\n      <td>1</td>\n      <td>12</td>\n    </tr>\n    <tr>\n      <th>84544</th>\n      <td>5</td>\n      <td>1</td>\n      <td>7349</td>\n      <td>78</td>\n      <td>13</td>\n      <td>10309</td>\n      <td>2</td>\n      <td>0</td>\n      <td>2</td>\n      <td>1976</td>\n      <td>1904</td>\n      <td>1998</td>\n      <td>1</td>\n      <td>12</td>\n    </tr>\n    <tr>\n      <th>84545</th>\n      <td>5</td>\n      <td>1</td>\n      <td>7351</td>\n      <td>60</td>\n      <td>11</td>\n      <td>10309</td>\n      <td>2</td>\n      <td>0</td>\n      <td>2</td>\n      <td>3287</td>\n      <td>775</td>\n      <td>1925</td>\n      <td>1</td>\n      <td>10</td>\n    </tr>\n    <tr>\n      <th>84546</th>\n      <td>5</td>\n      <td>10</td>\n      <td>7100</td>\n      <td>28</td>\n      <td>82</td>\n      <td>10309</td>\n      <td>0</td>\n      <td>7</td>\n      <td>7</td>\n      <td>1482</td>\n      <td>4372</td>\n      <td>2001</td>\n      <td>4</td>\n      <td>82</td>\n    </tr>\n    <tr>\n      <th>84547</th>\n      <td>5</td>\n      <td>10</td>\n      <td>7105</td>\n      <td>679</td>\n      <td>110</td>\n      <td>10309</td>\n      <td>0</td>\n      <td>1</td>\n      <td>1</td>\n      <td>146</td>\n      <td>1926</td>\n      <td>2006</td>\n      <td>4</td>\n      <td>110</td>\n    </tr>\n  </tbody>\n</table>\n<p>69987 rows × 14 columns</p>\n</div>",
      "text/plain": "       BOROUGH  TAX CLASS AT PRESENT  BLOCK  LOT  BUILDING CLASS AT PRESENT  \\\n0            1                     6    392    6                         16   \n3            1                     7    402   21                         18   \n4            1                     6    404   55                         16   \n6            1                     7    406   32                         18   \n9            1                     5    387  153                         34   \n...        ...                   ...    ...  ...                        ...   \n84543        5                     1   7349   34                         13   \n84544        5                     1   7349   78                         13   \n84545        5                     1   7351   60                         11   \n84546        5                    10   7100   28                         82   \n84547        5                    10   7105  679                        110   \n\n       ZIP CODE  RESIDENTIAL UNITS  COMMERCIAL UNITS  TOTAL UNITS  \\\n0         10009                  5                 0            5   \n3         10009                 10                 0           10   \n4         10009                  6                 0            6   \n6         10009                  8                 0            8   \n9         10009                 24                 0           24   \n...         ...                ...               ...          ...   \n84543     10309                  2                 0            2   \n84544     10309                  2                 0            2   \n84545     10309                  2                 0            2   \n84546     10309                  0                 7            7   \n84547     10309                  0                 1            1   \n\n       LAND SQUARE FEET  GROSS SQUARE FEET  YEAR BUILT  \\\n0                   916               4378        1900   \n3                  1712               4464        1913   \n4                  1828               3728        1900   \n6                  1070               3537        1920   \n9                  3615               1265        1920   \n...                 ...                ...         ...   \n84543              1864               2119        1998   \n84544              1976               1904        1998   \n84545              3287                775        1925   \n84546              1482               4372        2001   \n84547               146               1926        2006   \n\n       TAX CLASS AT TIME OF SALE  BUILDING CLASS AT TIME OF SALE  \n0                              2                              15  \n3                              2                              17  \n4                              2                              15  \n6                              2                              17  \n9                              2                              33  \n...                          ...                             ...  \n84543                          1                              12  \n84544                          1                              12  \n84545                          1                              10  \n84546                          4                              82  \n84547                          4                             110  \n\n[69987 rows x 14 columns]"
     },
     "execution_count": 18,
     "metadata": {},
     "output_type": "execute_result"
    }
   ],
   "source": [
    "#  Labeling properly the columns with object data type\n",
    "le = LabelEncoder()\n",
    "\n",
    "label_X = X_new.copy()\n",
    "for col in cat_varsx:\n",
    "    label_X[col] = le.fit_transform(X_train[col])\n",
    "\n",
    "# label_X contains the cleaned up training set"
   ]
  },
  {
   "cell_type": "code",
   "execution_count": 19,
   "metadata": {},
   "outputs": [],
   "source": [
    "#Dropping some data to account for Memory error, see issue #2\n",
    "label_X = label_X[:5000]\n",
    "y_train = y_train[:5000]\n"
   ]
  },
  {
   "cell_type": "code",
   "execution_count": 20,
   "metadata": {},
   "outputs": [
    {
     "name": "stdout",
     "output_type": "stream",
     "text": "2.641537666320801\n"
    }
   ],
   "source": [
    "# contains the error\n",
    "\n",
    "from time import time\n",
    "from sklearn.kernel_ridge import KernelRidge\n",
    "\n",
    "t0 = time()\n",
    "skr = KernelRidge(kernel='rbf', gamma=0.1)\n",
    "skr.fit(label_X, y_train)\n",
    "tsk1 = time() - t0\n",
    "print(tsk1)"
   ]
  },
  {
   "cell_type": "code",
   "execution_count": 13,
   "metadata": {},
   "outputs": [],
   "source": [
    "#Convert features and labels suitable for shogun\n",
    "\n",
    "label_X= label_X.to_numpy().astype(float)\n",
    "y_train = y_train.to_numpy().astype(float)\n",
    "y_train = y_train.reshape(y_train.shape[0],) #reshape to (num_samples,)"
   ]
  },
  {
   "cell_type": "code",
   "execution_count": 14,
   "metadata": {},
   "outputs": [
    {
     "name": "stdout",
     "output_type": "stream",
     "text": "66.37942337989807\n"
    }
   ],
   "source": [
    "from shogun import *\n",
    "\n",
    "\n",
    "train_features = RealFeatures(label_X.T)\n",
    "labels_train = RegressionLabels(y_train)\n",
    "\n",
    "\n",
    "width = 0.1\n",
    "kernel = GaussianKernel(train_features, train_features, width)\n",
    "tau = 1\n",
    "\n",
    "t0=time()\n",
    "krr = KernelRidgeRegression(tau, kernel, labels_train)\n",
    "krr.train()\n",
    "tsg1=time()-t0\n",
    "\n",
    "print(tsg1) "
   ]
  },
  {
   "cell_type": "code",
   "execution_count": 15,
   "metadata": {},
   "outputs": [
    {
     "name": "stdout",
     "output_type": "stream",
     "text": "----------------------------------------\n############ Final remarks  ############\n----------------------------------------\n\n\nSklearn training time: 20.580644369125366\nShogun training time: 66.37942337989807\nPerformance gap: 45.798779010772705\n\n\n----------------------------------------\n"
    }
   ],
   "source": [
    "#Final remarks\n",
    "print('----------------------------------------')\n",
    "print(\"############ Final remarks  ############\")\n",
    "print('----------------------------------------')\n",
    "print(\"\\n\")\n",
    "print(\"Sklearn training time: \" + str(tsk1))\n",
    "print(\"Shogun training time: \" + str(tsg1))\n",
    "print(\"Performance gap: \" + str(tsg1 - tsk1))\n",
    "print(\"\\n\")\n",
    "print('----------------------------------------')\n"
   ]
  }
 ],
 "metadata": {
  "file_extension": ".py",
  "kernelspec": {
   "display_name": "Python 3.6.7 64-bit ('shogun': conda)",
   "language": "python",
   "name": "python36764bitshogunconda93574ccea9d34c21bb391e6545381a80"
  },
  "language_info": {
   "codemirror_mode": {
    "name": "ipython",
    "version": 3
   },
   "file_extension": ".py",
   "mimetype": "text/x-python",
   "name": "python",
   "nbconvert_exporter": "python",
   "pygments_lexer": "ipython3",
   "version": "3.6.7-final"
  },
  "mimetype": "text/x-python",
  "name": "python",
  "npconvert_exporter": "python",
  "pygments_lexer": "ipython2",
  "version": 2
 },
 "nbformat": 4,
 "nbformat_minor": 2
}