{
 "cells": [
  {
   "cell_type": "code",
   "execution_count": 3,
   "metadata": {},
   "outputs": [],
   "source": [
    "from shogun import *\n",
    "import numpy as np\n",
    "import pandas as pd\n",
    "from sklearn.impute import SimpleImputer\n",
    "from sklearn.preprocessing import LabelEncoder"
   ]
  },
  {
   "cell_type": "code",
   "execution_count": 4,
   "metadata": {},
   "outputs": [],
   "source": [
    "df = pd.read_csv('../data/nyc-sales.csv')"
   ]
  },
  {
   "cell_type": "code",
   "execution_count": 5,
   "metadata": {},
   "outputs": [],
   "source": [
    "for i in range(len(df)):\n",
    "    if(df.loc[i,'SALE PRICE'] == ' -  '):\n",
    "        df.at[i,'SALE PRICE'] = np.nan\n",
    "        \n",
    "# test is the data with 'SALE PRICE' == NaN\n",
    "df_test = df[df['SALE PRICE'].isna()]\n",
    "\n",
    "#train is the cleaned data\n",
    "df_train = df[df['SALE PRICE'].notna()]\n"
   ]
  },
  {
   "cell_type": "code",
   "execution_count": 6,
   "metadata": {},
   "outputs": [],
   "source": [
    "# training set\n",
    "col_x = [col for col in df.columns\n",
    "      if col != 'SALE PRICE']\n",
    "X_train = df_train[col_x]"
   ]
  },
  {
   "cell_type": "code",
   "execution_count": 7,
   "metadata": {},
   "outputs": [],
   "source": [
    "# target variable\n",
    "target = ['SALE PRICE']\n",
    "y_train = df_train[target]"
   ]
  },
  {
   "cell_type": "code",
   "execution_count": 8,
   "metadata": {},
   "outputs": [],
   "source": [
    "# the string value that needed to be changed\n",
    "#     if(val==[' -  ']):\n",
    "\n",
    "# Test sets\n",
    "y_test = df_test[target]\n",
    "X_test = df_test[col_x]"
   ]
  },
  {
   "cell_type": "code",
   "execution_count": 9,
   "metadata": {},
   "outputs": [],
   "source": [
    "# imputer not required\n",
    "# myimputer = SimpleImputer(strategy='median')  \n",
    "\n",
    "encoder = LabelEncoder()\n",
    "\n",
    "s = (X_train.dtypes == 'object')\n",
    "\n",
    "cat_vars = list(s[s].index)\n",
    "\n",
    "# print(cat_vars)"
   ]
  },
  {
   "cell_type": "code",
   "execution_count": 10,
   "metadata": {},
   "outputs": [],
   "source": [
    "# drop the unwanted columns\n",
    "X_new = X_train.drop(columns=['Unnamed: 0','NEIGHBORHOOD','ADDRESS','EASE-MENT','BUILDING CLASS CATEGORY','SALE DATE','APARTMENT NUMBER'])\n",
    "\n",
    "# X_new.head()"
   ]
  },
  {
   "cell_type": "code",
   "execution_count": 11,
   "metadata": {},
   "outputs": [],
   "source": [
    "s = (X_new.dtypes == 'object')\n",
    "cat_varsx = list(s[s].index)\n",
    "# print(cat_varsx)"
   ]
  },
  {
   "cell_type": "code",
   "execution_count": 26,
   "metadata": {},
   "outputs": [],
   "source": [
    "#  Labeling properly the columns with object data type\n",
    "le = LabelEncoder()\n",
    "\n",
    "label_X = X_new.copy()\n",
    "for col in cat_varsx:\n",
    "    label_X[col] = le.fit_transform(X_new[col])\n",
    "    \n",
    "# label_X contains the cleaned up training set\n"
   ]
  },
  {
   "cell_type": "code",
   "execution_count": 28,
   "metadata": {},
   "outputs": [],
   "source": [
    "#Dropping some data to account for Memory error, see issue #2\n",
    "label_X = label_X[:3000]\n",
    "y_train = y_train[:3000]\n"
   ]
  },
  {
   "cell_type": "code",
   "execution_count": 30,
   "metadata": {},
   "outputs": [
    {
     "name": "stdout",
     "output_type": "stream",
     "text": "0.9064300060272217\n"
    }
   ],
   "source": [
    "# contains the error\n",
    "\n",
    "from time import time\n",
    "from sklearn.kernel_ridge import KernelRidge\n",
    "\n",
    "t0 = time()\n",
    "skr = KernelRidge(kernel='rbf', gamma=0.1)\n",
    "skr.fit(label_X, y_train)\n",
    "ts1 = time() - t0\n",
    "print(ts1)"
   ]
  }
 ],
 "metadata": {
  "file_extension": ".py",
  "kernelspec": {
   "display_name": "Python 3.6.7 64-bit ('shogun': conda)",
   "language": "python",
   "name": "python36764bitshogunconda93574ccea9d34c21bb391e6545381a80"
  },
  "language_info": {
   "codemirror_mode": {
    "name": "ipython",
    "version": 3
   },
   "file_extension": ".py",
   "mimetype": "text/x-python",
   "name": "python",
   "nbconvert_exporter": "python",
   "pygments_lexer": "ipython3",
   "version": "3.6.7-final"
  },
  "mimetype": "text/x-python",
  "name": "python",
  "npconvert_exporter": "python",
  "pygments_lexer": "ipython2",
  "version": 2
 },
 "nbformat": 4,
 "nbformat_minor": 2
}