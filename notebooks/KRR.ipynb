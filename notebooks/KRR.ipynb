{
 "cells": [
  {
   "cell_type": "code",
   "execution_count": 1,
   "metadata": {},
   "outputs": [],
   "source": [
    "# NUMPY & PANDAS\n",
    "import numpy as np\n",
    "import pandas as pd\n",
    "\n",
    "# MATPLOTLIB\n",
    "import matplotlib.pyplot as plt\n",
    "\n",
    "# SCI_KIT LEARN\n",
    "from sklearn.impute import SimpleImputer\n",
    "from sklearn.preprocessing import LabelEncoder\n",
    "from sklearn.kernel_ridge import KernelRidge\n",
    "from sklearn import datasets\n",
    "\n",
    "# SHOGUN\n",
    "from shogun import *\n",
    "\n",
    "from time import time"
   ]
  },
  {
   "cell_type": "markdown",
   "metadata": {},
   "source": [
    "###### READ THE CSV FILE "
   ]
  },
  {
   "cell_type": "code",
   "execution_count": 2,
   "metadata": {},
   "outputs": [],
   "source": [
    "df = pd.read_csv('../data/nyc-sales.csv')\n",
    "\n",
    "for i in range(len(df)):\n",
    "    if(df.loc[i,'SALE PRICE'] == ' -  '):\n",
    "        df.at[i,'SALE PRICE'] = np.nan\n",
    "        \n",
    "# test is the data with 'SALE PRICE' == NaN\n",
    "df_test = df[df['SALE PRICE'].isna()]\n",
    "\n",
    "#train is the cleaned data\n",
    "df_train = df[df['SALE PRICE'].notna()]\n",
    "\n",
    "\n",
    "# training set\n",
    "col_x = [col for col in df.columns\n",
    "      if col != 'SALE PRICE']\n",
    "X_train = df_train[col_x]\n",
    "\n",
    "# target variable\n",
    "target = ['SALE PRICE']\n",
    "\n",
    "y_train = df_train[target]"
   ]
  },
  {
   "cell_type": "code",
   "execution_count": 6,
   "metadata": {},
   "outputs": [],
   "source": [
    "# the string value that needed to be changed\n",
    "#     if(val==[' -  ']):"
   ]
  },
  {
   "cell_type": "code",
   "execution_count": 7,
   "metadata": {},
   "outputs": [],
   "source": [
    "encoder = LabelEncoder()\n",
    "\n",
    "s = (X_train.dtypes == 'object')\n",
    "\n",
    "cat_vars = list(s[s].index)\n",
    "\n",
    "# drop the unwanted columns\n",
    "X_new = X_train.drop(columns=['Unnamed: 0','NEIGHBORHOOD','ADDRESS','EASE-MENT',\n",
    "                              'BUILDING CLASS CATEGORY','SALE DATE','APARTMENT NUMBER'])\n",
    "\n",
    "s = (X_new.dtypes == 'object')\n",
    "cat_varsx = list(s[s].index)\n",
    "\n",
    "#  Labeling properly the columns with object data type\n",
    "le = LabelEncoder()\n",
    "\n",
    "label_X = X_new.copy()\n",
    "for col in cat_varsx:\n",
    "    label_X[col] = le.fit_transform(X_new[col])\n",
    "    \n",
    "\n",
    "# label_X contains the cleaned up training set\n",
    "# Convert features and labels suitable for shogun\n",
    "\n",
    "label_X_sh = label_X.to_numpy().astype(float)\n",
    "\n",
    "y_train_sh = y_train.to_numpy().astype(float)\n",
    "y_train_sh = y_train_sh.reshape(y_train.shape[0],) #reshape to (num_samples)"
   ]
  },
  {
   "cell_type": "code",
   "execution_count": 12,
   "metadata": {},
   "outputs": [],
   "source": [
    "time_skl = []\n",
    "time_sgn = []\n",
    "time_diff = []\n",
    "size = [1000,2000,3000,4000,5000,6000,7000,8000,9000,10000]"
   ]
  },
  {
   "cell_type": "code",
   "execution_count": 13,
   "metadata": {},
   "outputs": [
    {
     "name": "stdout",
     "output_type": "stream",
     "text": [
      "1000\n",
      "0.16187095642089844\n",
      "0.10772418975830078\n",
      "2000\n",
      "0.5613930225372314\n",
      "0.5204756259918213\n",
      "3000\n",
      "1.533111572265625\n",
      "2.2268362045288086\n",
      "4000\n",
      "2.968240261077881\n",
      "4.719449520111084\n",
      "5000\n",
      "4.906449794769287\n",
      "8.836145401000977\n",
      "6000\n",
      "7.437565088272095\n",
      "14.740839958190918\n",
      "7000\n",
      "10.455414772033691\n",
      "20.989164113998413\n",
      "8000\n",
      "14.28368067741394\n",
      "33.341439962387085\n",
      "9000\n",
      "18.79798698425293\n",
      "47.42815637588501\n",
      "10000\n",
      "23.41003394126892\n",
      "65.25201988220215\n"
     ]
    }
   ],
   "source": [
    "\n",
    "for i in size:\n",
    "    #Dropping some data to account for Memory error, see issue #2\n",
    "    print(i)\n",
    "    \n",
    "    label_X_temp_sh = label_X_sh[:i]\n",
    "    label_X_temp = label_X[:i]\n",
    "    y_train_temp_sh = y_train_sh[:i]\n",
    "    y_train_temp = y_train[:i]\n",
    "\n",
    "    t0 = time()\n",
    "    skr = KernelRidge(kernel='rbf', gamma=0.1)\n",
    "    skr.fit(label_X_temp, y_train_temp)\n",
    "    tsk1 = time() - t0\n",
    "    time_skl.append(tsk1)\n",
    "\n",
    "    train_features = RealFeatures(label_X_temp_sh.T)\n",
    "    labels_train = RegressionLabels(y_train_temp_sh)\n",
    "\n",
    "    width = 0.1\n",
    "    kernel = GaussianKernel(train_features, train_features, width)\n",
    "    tau = 1\n",
    "\n",
    "    t0=time()\n",
    "    krr = KernelRidgeRegression(tau, kernel, labels_train)\n",
    "    krr.train()\n",
    "    tsg1=time()-t0\n",
    "    time_sgn.append(tsg1)\n",
    "   \n",
    "    #Final remarks\n",
    "    print(\"\\n\")\n",
    "    print(\"Sklearn: \" + str(tsk1))\n",
    "    print(\"Shogun : \" + str(tsg1))\n"
   ]
  },
  {
   "cell_type": "code",
   "execution_count": 42,
   "metadata": {},
   "outputs": [
    {
     "data": {
      "text/plain": [
       "<matplotlib.legend.Legend at 0x20881e935f8>"
      ]
     },
     "execution_count": 42,
     "metadata": {},
     "output_type": "execute_result"
    },
    {
     "data": {
      "image/png": "[encoded data removed]",
      "text/plain": [
       "<Figure size 1008x504 with 1 Axes>"
      ]
     },
     "metadata": {
      "needs_background": "light"
     },
     "output_type": "display_data"
    }
   ],
   "source": [
    "# PLOTTING\n",
    "plt.figure(figsize=(14,7))\n",
    "plt.plot(size,time_skl,color='red',label='SKlearn')\n",
    "plt.plot(size,time_sgn,color='yellow',label='Shogun')\n",
    "plt.xlabel('Data-set size')\n",
    "plt.ylabel('time taken')\n",
    "plt.legend()"
   ]
  }
 ],
 "metadata": {
  "file_extension": ".py",
  "kernelspec": {
   "display_name": "Python 3",
   "language": "python",
   "name": "python3"
  },
  "language_info": {
   "codemirror_mode": {
    "name": "ipython",
    "version": 3
   },
   "file_extension": ".py",
   "mimetype": "text/x-python",
   "name": "python",
   "nbconvert_exporter": "python",
   "pygments_lexer": "ipython3",
   "version": "3.6.10"
  },
  "mimetype": "text/x-python",
  "name": "python",
  "npconvert_exporter": "python",
  "pygments_lexer": "ipython2",
  "version": 2
 },
 "nbformat": 4,
 "nbformat_minor": 2
}
