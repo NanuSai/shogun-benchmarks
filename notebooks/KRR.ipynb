{
 "nbformat": 4,
 "nbformat_minor": 2,
 "metadata": {
  "language_info": {
   "name": "python",
   "codemirror_mode": {
    "name": "ipython",
    "version": 2
   },
   "version": "3.6.7-final"
  },
  "orig_nbformat": 2,
  "file_extension": ".py",
  "mimetype": "text/x-python",
  "name": "python",
  "npconvert_exporter": "python",
  "pygments_lexer": "ipython2",
  "version": 2,
  "kernelspec": {
   "name": "python36764bitshogunconda93574ccea9d34c21bb391e6545381a80",
   "display_name": "Python 3.6.7 64-bit ('shogun': conda)"
  }
 },
 "cells": [
  {
   "cell_type": "code",
   "execution_count": 17,
   "metadata": {},
   "outputs": [],
   "source": [
    "from shogun import *\n",
    "import numpy as np\n",
    "import pandas as pd"
   ]
  },
  {
   "cell_type": "code",
   "execution_count": 29,
   "metadata": {},
   "outputs": [
    {
     "data": {
      "text/plain": "Index(['Unnamed: 0', 'BOROUGH', 'NEIGHBORHOOD', 'BUILDING CLASS CATEGORY',\n       'TAX CLASS AT PRESENT', 'BLOCK', 'LOT', 'EASE-MENT',\n       'BUILDING CLASS AT PRESENT', 'ADDRESS', 'APARTMENT NUMBER', 'ZIP CODE',\n       'RESIDENTIAL UNITS', 'COMMERCIAL UNITS', 'TOTAL UNITS',\n       'LAND SQUARE FEET', 'GROSS SQUARE FEET', 'YEAR BUILT',\n       'TAX CLASS AT TIME OF SALE', 'BUILDING CLASS AT TIME OF SALE',\n       'SALE PRICE', 'SALE DATE'],\n      dtype='object')"
     },
     "execution_count": 29,
     "metadata": {},
     "output_type": "execute_result"
    }
   ],
   "source": [
    "def SplitTrainData(trainData):\n",
    "    return (trainData[:,:-1],trainData.iloc[-1])\n",
    "\n",
    "df = pd.read_csv('../data/nyc-sales.csv')\n",
    "df.isna().any()\n",
    "df.columns"
   ]
  },
  {
   "cell_type": "code",
   "execution_count": 22,
   "metadata": {},
   "outputs": [
    {
     "data": {
      "text/plain": "Unnamed: 0                         int64\nBOROUGH                            int64\nNEIGHBORHOOD                      object\nBUILDING CLASS CATEGORY           object\nTAX CLASS AT PRESENT              object\nBLOCK                              int64\nLOT                                int64\nEASE-MENT                         object\nBUILDING CLASS AT PRESENT         object\nADDRESS                           object\nAPARTMENT NUMBER                  object\nZIP CODE                           int64\nRESIDENTIAL UNITS                  int64\nCOMMERCIAL UNITS                   int64\nTOTAL UNITS                        int64\nLAND SQUARE FEET                  object\nGROSS SQUARE FEET                 object\nYEAR BUILT                         int64\nTAX CLASS AT TIME OF SALE          int64\nBUILDING CLASS AT TIME OF SALE    object\nSALE PRICE                        object\nSALE DATE                         object\ndtype: object"
     },
     "execution_count": 22,
     "metadata": {},
     "output_type": "execute_result"
    }
   ],
   "source": [
    "df"
   ]
  }
 ]
}