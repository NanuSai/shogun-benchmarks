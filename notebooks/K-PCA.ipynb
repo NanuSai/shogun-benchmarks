{
 "nbformat": 4,
 "nbformat_minor": 2,
 "metadata": {
  "language_info": {
   "name": "python",
   "codemirror_mode": {
    "name": "ipython",
    "version": 2
   },
   "version": "2.7.17-final"
  },
  "orig_nbformat": 2,
  "file_extension": ".py",
  "mimetype": "text/x-python",
  "name": "python",
  "npconvert_exporter": "python",
  "pygments_lexer": "ipython2",
  "version": 2,
  "kernelspec": {
   "name": "python36764bitshoguncondac7a0e3848df347c5bf6b66ff0bdbbf7f",
   "display_name": "Python 3.6.7 64-bit ('shogun': conda)"
  }
 },
 "cells": [
  {
   "cell_type": "code",
   "execution_count": 2,
   "metadata": {},
   "outputs": [],
   "source": [
    "from shogun import *\n",
    "import numpy as np\n",
    "import pandas as pd\n",
    "import matplotlib.pyplot as plt\n",
    "from sklearn.impute import SimpleImputer\n",
    "from sklearn.preprocessing import LabelEncoder\n"
   ]
  },
  {
   "cell_type": "code",
   "execution_count": 3,
   "metadata": {},
   "outputs": [
    {
     "data": {
      "text/html": "<div>\n<style scoped>\n    .dataframe tbody tr th:only-of-type {\n        vertical-align: middle;\n    }\n\n    .dataframe tbody tr th {\n        vertical-align: top;\n    }\n\n    .dataframe thead th {\n        text-align: right;\n    }\n</style>\n<table border=\"1\" class=\"dataframe\">\n  <thead>\n    <tr style=\"text-align: right;\">\n      <th></th>\n      <th>Unnamed: 0</th>\n      <th>BOROUGH</th>\n      <th>NEIGHBORHOOD</th>\n      <th>BUILDING CLASS CATEGORY</th>\n      <th>TAX CLASS AT PRESENT</th>\n      <th>BLOCK</th>\n      <th>LOT</th>\n      <th>EASE-MENT</th>\n      <th>BUILDING CLASS AT PRESENT</th>\n      <th>ADDRESS</th>\n      <th>...</th>\n      <th>RESIDENTIAL UNITS</th>\n      <th>COMMERCIAL UNITS</th>\n      <th>TOTAL UNITS</th>\n      <th>LAND SQUARE FEET</th>\n      <th>GROSS SQUARE FEET</th>\n      <th>YEAR BUILT</th>\n      <th>TAX CLASS AT TIME OF SALE</th>\n      <th>BUILDING CLASS AT TIME OF SALE</th>\n      <th>SALE PRICE</th>\n      <th>SALE DATE</th>\n    </tr>\n  </thead>\n  <tbody>\n    <tr>\n      <th>0</th>\n      <td>4</td>\n      <td>1</td>\n      <td>ALPHABET CITY</td>\n      <td>07 RENTALS - WALKUP APARTMENTS</td>\n      <td>2A</td>\n      <td>392</td>\n      <td>6</td>\n      <td></td>\n      <td>C2</td>\n      <td>153 AVENUE B</td>\n      <td>...</td>\n      <td>5</td>\n      <td>0</td>\n      <td>5</td>\n      <td>1633</td>\n      <td>6440</td>\n      <td>1900</td>\n      <td>2</td>\n      <td>C2</td>\n      <td>6625000</td>\n      <td>2017-07-19 00:00:00</td>\n    </tr>\n    <tr>\n      <th>1</th>\n      <td>5</td>\n      <td>1</td>\n      <td>ALPHABET CITY</td>\n      <td>07 RENTALS - WALKUP APARTMENTS</td>\n      <td>2</td>\n      <td>399</td>\n      <td>26</td>\n      <td></td>\n      <td>C7</td>\n      <td>234 EAST 4TH   STREET</td>\n      <td>...</td>\n      <td>28</td>\n      <td>3</td>\n      <td>31</td>\n      <td>4616</td>\n      <td>18690</td>\n      <td>1900</td>\n      <td>2</td>\n      <td>C7</td>\n      <td>-</td>\n      <td>2016-12-14 00:00:00</td>\n    </tr>\n    <tr>\n      <th>2</th>\n      <td>6</td>\n      <td>1</td>\n      <td>ALPHABET CITY</td>\n      <td>07 RENTALS - WALKUP APARTMENTS</td>\n      <td>2</td>\n      <td>399</td>\n      <td>39</td>\n      <td></td>\n      <td>C7</td>\n      <td>197 EAST 3RD   STREET</td>\n      <td>...</td>\n      <td>16</td>\n      <td>1</td>\n      <td>17</td>\n      <td>2212</td>\n      <td>7803</td>\n      <td>1900</td>\n      <td>2</td>\n      <td>C7</td>\n      <td>-</td>\n      <td>2016-12-09 00:00:00</td>\n    </tr>\n    <tr>\n      <th>3</th>\n      <td>7</td>\n      <td>1</td>\n      <td>ALPHABET CITY</td>\n      <td>07 RENTALS - WALKUP APARTMENTS</td>\n      <td>2B</td>\n      <td>402</td>\n      <td>21</td>\n      <td></td>\n      <td>C4</td>\n      <td>154 EAST 7TH STREET</td>\n      <td>...</td>\n      <td>10</td>\n      <td>0</td>\n      <td>10</td>\n      <td>2272</td>\n      <td>6794</td>\n      <td>1913</td>\n      <td>2</td>\n      <td>C4</td>\n      <td>3936272</td>\n      <td>2016-09-23 00:00:00</td>\n    </tr>\n    <tr>\n      <th>4</th>\n      <td>8</td>\n      <td>1</td>\n      <td>ALPHABET CITY</td>\n      <td>07 RENTALS - WALKUP APARTMENTS</td>\n      <td>2A</td>\n      <td>404</td>\n      <td>55</td>\n      <td></td>\n      <td>C2</td>\n      <td>301 EAST 10TH   STREET</td>\n      <td>...</td>\n      <td>6</td>\n      <td>0</td>\n      <td>6</td>\n      <td>2369</td>\n      <td>4615</td>\n      <td>1900</td>\n      <td>2</td>\n      <td>C2</td>\n      <td>8000000</td>\n      <td>2016-11-17 00:00:00</td>\n    </tr>\n  </tbody>\n</table>\n<p>5 rows × 22 columns</p>\n</div>",
      "text/plain": "   Unnamed: 0  BOROUGH   NEIGHBORHOOD  \\\n0           4        1  ALPHABET CITY   \n1           5        1  ALPHABET CITY   \n2           6        1  ALPHABET CITY   \n3           7        1  ALPHABET CITY   \n4           8        1  ALPHABET CITY   \n\n                       BUILDING CLASS CATEGORY TAX CLASS AT PRESENT  BLOCK  \\\n0  07 RENTALS - WALKUP APARTMENTS                                2A    392   \n1  07 RENTALS - WALKUP APARTMENTS                                 2    399   \n2  07 RENTALS - WALKUP APARTMENTS                                 2    399   \n3  07 RENTALS - WALKUP APARTMENTS                                2B    402   \n4  07 RENTALS - WALKUP APARTMENTS                                2A    404   \n\n   LOT EASE-MENT BUILDING CLASS AT PRESENT                 ADDRESS  ...  \\\n0    6                                  C2            153 AVENUE B  ...   \n1   26                                  C7   234 EAST 4TH   STREET  ...   \n2   39                                  C7   197 EAST 3RD   STREET  ...   \n3   21                                  C4     154 EAST 7TH STREET  ...   \n4   55                                  C2  301 EAST 10TH   STREET  ...   \n\n  RESIDENTIAL UNITS  COMMERCIAL UNITS  TOTAL UNITS  LAND SQUARE FEET  \\\n0                 5                 0            5              1633   \n1                28                 3           31              4616   \n2                16                 1           17              2212   \n3                10                 0           10              2272   \n4                 6                 0            6              2369   \n\n   GROSS SQUARE FEET YEAR BUILT TAX CLASS AT TIME OF SALE  \\\n0               6440       1900                         2   \n1              18690       1900                         2   \n2               7803       1900                         2   \n3               6794       1913                         2   \n4               4615       1900                         2   \n\n   BUILDING CLASS AT TIME OF SALE  SALE PRICE            SALE DATE  \n0                              C2     6625000  2017-07-19 00:00:00  \n1                              C7         -    2016-12-14 00:00:00  \n2                              C7         -    2016-12-09 00:00:00  \n3                              C4     3936272  2016-09-23 00:00:00  \n4                              C2     8000000  2016-11-17 00:00:00  \n\n[5 rows x 22 columns]"
     },
     "execution_count": 3,
     "metadata": {},
     "output_type": "execute_result"
    }
   ],
   "source": [
    "df = pd.read_csv('../data/nyc-sales.csv')\n",
    "df.head()\n"
   ]
  },
  {
   "cell_type": "code",
   "execution_count": 8,
   "metadata": {},
   "outputs": [
    {
     "ename": "KeyError",
     "evalue": "'User_Score'",
     "output_type": "error",
     "traceback": [
      "\u001b[0;31m---------------------------------------------------------------------------\u001b[0m",
      "\u001b[0;31mKeyError\u001b[0m                                  Traceback (most recent call last)",
      "\u001b[0;32m~/anaconda3/envs/shogun/lib/python3.6/site-packages/pandas/core/indexes/base.py\u001b[0m in \u001b[0;36mget_loc\u001b[0;34m(self, key, method, tolerance)\u001b[0m\n\u001b[1;32m   2645\u001b[0m             \u001b[0;32mtry\u001b[0m\u001b[0;34m:\u001b[0m\u001b[0;34m\u001b[0m\u001b[0;34m\u001b[0m\u001b[0m\n\u001b[0;32m-> 2646\u001b[0;31m                 \u001b[0;32mreturn\u001b[0m \u001b[0mself\u001b[0m\u001b[0;34m.\u001b[0m\u001b[0m_engine\u001b[0m\u001b[0;34m.\u001b[0m\u001b[0mget_loc\u001b[0m\u001b[0;34m(\u001b[0m\u001b[0mkey\u001b[0m\u001b[0;34m)\u001b[0m\u001b[0;34m\u001b[0m\u001b[0;34m\u001b[0m\u001b[0m\n\u001b[0m\u001b[1;32m   2647\u001b[0m             \u001b[0;32mexcept\u001b[0m \u001b[0mKeyError\u001b[0m\u001b[0;34m:\u001b[0m\u001b[0;34m\u001b[0m\u001b[0;34m\u001b[0m\u001b[0m\n",
      "\u001b[0;32mpandas/_libs/index.pyx\u001b[0m in \u001b[0;36mpandas._libs.index.IndexEngine.get_loc\u001b[0;34m()\u001b[0m\n",
      "\u001b[0;32mpandas/_libs/index.pyx\u001b[0m in \u001b[0;36mpandas._libs.index.IndexEngine.get_loc\u001b[0;34m()\u001b[0m\n",
      "\u001b[0;32mpandas/_libs/hashtable_class_helper.pxi\u001b[0m in \u001b[0;36mpandas._libs.hashtable.PyObjectHashTable.get_item\u001b[0;34m()\u001b[0m\n",
      "\u001b[0;32mpandas/_libs/hashtable_class_helper.pxi\u001b[0m in \u001b[0;36mpandas._libs.hashtable.PyObjectHashTable.get_item\u001b[0;34m()\u001b[0m\n",
      "\u001b[0;31mKeyError\u001b[0m: 'User_Score'",
      "\nDuring handling of the above exception, another exception occurred:\n",
      "\u001b[0;31mKeyError\u001b[0m                                  Traceback (most recent call last)",
      "\u001b[0;32m<ipython-input-8-3cadb545e50e>\u001b[0m in \u001b[0;36m<module>\u001b[0;34m\u001b[0m\n\u001b[0;32m----> 1\u001b[0;31m \u001b[0mdf\u001b[0m\u001b[0;34m[\u001b[0m\u001b[0;34m\"User_Score\"\u001b[0m\u001b[0;34m]\u001b[0m\u001b[0;34m\u001b[0m\u001b[0;34m\u001b[0m\u001b[0m\n\u001b[0m",
      "\u001b[0;32m~/anaconda3/envs/shogun/lib/python3.6/site-packages/pandas/core/frame.py\u001b[0m in \u001b[0;36m__getitem__\u001b[0;34m(self, key)\u001b[0m\n\u001b[1;32m   2798\u001b[0m             \u001b[0;32mif\u001b[0m \u001b[0mself\u001b[0m\u001b[0;34m.\u001b[0m\u001b[0mcolumns\u001b[0m\u001b[0;34m.\u001b[0m\u001b[0mnlevels\u001b[0m \u001b[0;34m>\u001b[0m \u001b[0;36m1\u001b[0m\u001b[0;34m:\u001b[0m\u001b[0;34m\u001b[0m\u001b[0;34m\u001b[0m\u001b[0m\n\u001b[1;32m   2799\u001b[0m                 \u001b[0;32mreturn\u001b[0m \u001b[0mself\u001b[0m\u001b[0;34m.\u001b[0m\u001b[0m_getitem_multilevel\u001b[0m\u001b[0;34m(\u001b[0m\u001b[0mkey\u001b[0m\u001b[0;34m)\u001b[0m\u001b[0;34m\u001b[0m\u001b[0;34m\u001b[0m\u001b[0m\n\u001b[0;32m-> 2800\u001b[0;31m             \u001b[0mindexer\u001b[0m \u001b[0;34m=\u001b[0m \u001b[0mself\u001b[0m\u001b[0;34m.\u001b[0m\u001b[0mcolumns\u001b[0m\u001b[0;34m.\u001b[0m\u001b[0mget_loc\u001b[0m\u001b[0;34m(\u001b[0m\u001b[0mkey\u001b[0m\u001b[0;34m)\u001b[0m\u001b[0;34m\u001b[0m\u001b[0;34m\u001b[0m\u001b[0m\n\u001b[0m\u001b[1;32m   2801\u001b[0m             \u001b[0;32mif\u001b[0m \u001b[0mis_integer\u001b[0m\u001b[0;34m(\u001b[0m\u001b[0mindexer\u001b[0m\u001b[0;34m)\u001b[0m\u001b[0;34m:\u001b[0m\u001b[0;34m\u001b[0m\u001b[0;34m\u001b[0m\u001b[0m\n\u001b[1;32m   2802\u001b[0m                 \u001b[0mindexer\u001b[0m \u001b[0;34m=\u001b[0m \u001b[0;34m[\u001b[0m\u001b[0mindexer\u001b[0m\u001b[0;34m]\u001b[0m\u001b[0;34m\u001b[0m\u001b[0;34m\u001b[0m\u001b[0m\n",
      "\u001b[0;32m~/anaconda3/envs/shogun/lib/python3.6/site-packages/pandas/core/indexes/base.py\u001b[0m in \u001b[0;36mget_loc\u001b[0;34m(self, key, method, tolerance)\u001b[0m\n\u001b[1;32m   2646\u001b[0m                 \u001b[0;32mreturn\u001b[0m \u001b[0mself\u001b[0m\u001b[0;34m.\u001b[0m\u001b[0m_engine\u001b[0m\u001b[0;34m.\u001b[0m\u001b[0mget_loc\u001b[0m\u001b[0;34m(\u001b[0m\u001b[0mkey\u001b[0m\u001b[0;34m)\u001b[0m\u001b[0;34m\u001b[0m\u001b[0;34m\u001b[0m\u001b[0m\n\u001b[1;32m   2647\u001b[0m             \u001b[0;32mexcept\u001b[0m \u001b[0mKeyError\u001b[0m\u001b[0;34m:\u001b[0m\u001b[0;34m\u001b[0m\u001b[0;34m\u001b[0m\u001b[0m\n\u001b[0;32m-> 2648\u001b[0;31m                 \u001b[0;32mreturn\u001b[0m \u001b[0mself\u001b[0m\u001b[0;34m.\u001b[0m\u001b[0m_engine\u001b[0m\u001b[0;34m.\u001b[0m\u001b[0mget_loc\u001b[0m\u001b[0;34m(\u001b[0m\u001b[0mself\u001b[0m\u001b[0;34m.\u001b[0m\u001b[0m_maybe_cast_indexer\u001b[0m\u001b[0;34m(\u001b[0m\u001b[0mkey\u001b[0m\u001b[0;34m)\u001b[0m\u001b[0;34m)\u001b[0m\u001b[0;34m\u001b[0m\u001b[0;34m\u001b[0m\u001b[0m\n\u001b[0m\u001b[1;32m   2649\u001b[0m         \u001b[0mindexer\u001b[0m \u001b[0;34m=\u001b[0m \u001b[0mself\u001b[0m\u001b[0;34m.\u001b[0m\u001b[0mget_indexer\u001b[0m\u001b[0;34m(\u001b[0m\u001b[0;34m[\u001b[0m\u001b[0mkey\u001b[0m\u001b[0;34m]\u001b[0m\u001b[0;34m,\u001b[0m \u001b[0mmethod\u001b[0m\u001b[0;34m=\u001b[0m\u001b[0mmethod\u001b[0m\u001b[0;34m,\u001b[0m \u001b[0mtolerance\u001b[0m\u001b[0;34m=\u001b[0m\u001b[0mtolerance\u001b[0m\u001b[0;34m)\u001b[0m\u001b[0;34m\u001b[0m\u001b[0;34m\u001b[0m\u001b[0m\n\u001b[1;32m   2650\u001b[0m         \u001b[0;32mif\u001b[0m \u001b[0mindexer\u001b[0m\u001b[0;34m.\u001b[0m\u001b[0mndim\u001b[0m \u001b[0;34m>\u001b[0m \u001b[0;36m1\u001b[0m \u001b[0;32mor\u001b[0m \u001b[0mindexer\u001b[0m\u001b[0;34m.\u001b[0m\u001b[0msize\u001b[0m \u001b[0;34m>\u001b[0m \u001b[0;36m1\u001b[0m\u001b[0;34m:\u001b[0m\u001b[0;34m\u001b[0m\u001b[0;34m\u001b[0m\u001b[0m\n",
      "\u001b[0;32mpandas/_libs/index.pyx\u001b[0m in \u001b[0;36mpandas._libs.index.IndexEngine.get_loc\u001b[0;34m()\u001b[0m\n",
      "\u001b[0;32mpandas/_libs/index.pyx\u001b[0m in \u001b[0;36mpandas._libs.index.IndexEngine.get_loc\u001b[0;34m()\u001b[0m\n",
      "\u001b[0;32mpandas/_libs/hashtable_class_helper.pxi\u001b[0m in \u001b[0;36mpandas._libs.hashtable.PyObjectHashTable.get_item\u001b[0;34m()\u001b[0m\n",
      "\u001b[0;32mpandas/_libs/hashtable_class_helper.pxi\u001b[0m in \u001b[0;36mpandas._libs.hashtable.PyObjectHashTable.get_item\u001b[0;34m()\u001b[0m\n",
      "\u001b[0;31mKeyError\u001b[0m: 'User_Score'"
     ]
    }
   ],
   "source": [
    "df[\"User_Score\"]"
   ]
  },
  {
   "cell_type": "code",
   "execution_count": 6,
   "metadata": {},
   "outputs": [],
   "source": [
    "from sklearn.preprocessing import LabelEncoder\n",
    "\n"
   ]
  }
 ]
}