{
 "nbformat": 4,
 "nbformat_minor": 2,
 "metadata": {
  "language_info": {
   "name": "python",
   "codemirror_mode": {
    "name": "ipython",
    "version": 2
   },
   "version": "2.7.17-final"
  },
  "orig_nbformat": 2,
  "file_extension": ".py",
  "mimetype": "text/x-python",
  "name": "python",
  "npconvert_exporter": "python",
  "pygments_lexer": "ipython2",
  "version": 2,
  "kernelspec": {
   "name": "python36764bitshoguncondac7a0e3848df347c5bf6b66ff0bdbbf7f",
   "display_name": "Python 3.6.7 64-bit ('shogun': conda)"
  }
 },
 "cells": [
  {
   "cell_type": "code",
   "execution_count": 92,
   "metadata": {},
   "outputs": [],
   "source": [
    "from shogun import *\n",
    "import numpy as np\n",
    "import pandas as pd\n",
    "import matplotlib.pyplot as plt\n",
    "from sklearn.impute import SimpleImputer\n",
    "from sklearn.preprocessing import LabelEncoder"
   ]
  },
  {
   "cell_type": "code",
   "execution_count": 93,
   "metadata": {},
   "outputs": [],
   "source": [
    "dataframe = pd.read_csv('../data/vid-game.csv')\n",
    "df = dataframe.dropna()\n",
    "\n",
    "# df.shape"
   ]
  },
  {
   "cell_type": "code",
   "execution_count": 94,
   "metadata": {},
   "outputs": [
    {
     "data": {
      "text/html": "<div>\n<style scoped>\n    .dataframe tbody tr th:only-of-type {\n        vertical-align: middle;\n    }\n\n    .dataframe tbody tr th {\n        vertical-align: top;\n    }\n\n    .dataframe thead th {\n        text-align: right;\n    }\n</style>\n<table border=\"1\" class=\"dataframe\">\n  <thead>\n    <tr style=\"text-align: right;\">\n      <th></th>\n      <th>Name</th>\n      <th>Platform</th>\n      <th>Year_of_Release</th>\n      <th>Publisher</th>\n      <th>NA_Sales</th>\n      <th>EU_Sales</th>\n      <th>JP_Sales</th>\n      <th>Other_Sales</th>\n      <th>Global_Sales</th>\n      <th>Critic_Score</th>\n      <th>Critic_Count</th>\n      <th>User_Score</th>\n      <th>User_Count</th>\n      <th>Developer</th>\n      <th>Rating</th>\n    </tr>\n  </thead>\n  <tbody>\n    <tr>\n      <th>0</th>\n      <td>Wii Sports</td>\n      <td>Wii</td>\n      <td>2006.0</td>\n      <td>Nintendo</td>\n      <td>41.36</td>\n      <td>28.96</td>\n      <td>3.77</td>\n      <td>8.45</td>\n      <td>82.53</td>\n      <td>76.0</td>\n      <td>51.0</td>\n      <td>8</td>\n      <td>322.0</td>\n      <td>Nintendo</td>\n      <td>E</td>\n    </tr>\n    <tr>\n      <th>2</th>\n      <td>Mario Kart Wii</td>\n      <td>Wii</td>\n      <td>2008.0</td>\n      <td>Nintendo</td>\n      <td>15.68</td>\n      <td>12.76</td>\n      <td>3.79</td>\n      <td>3.29</td>\n      <td>35.52</td>\n      <td>82.0</td>\n      <td>73.0</td>\n      <td>8.3</td>\n      <td>709.0</td>\n      <td>Nintendo</td>\n      <td>E</td>\n    </tr>\n    <tr>\n      <th>3</th>\n      <td>Wii Sports Resort</td>\n      <td>Wii</td>\n      <td>2009.0</td>\n      <td>Nintendo</td>\n      <td>15.61</td>\n      <td>10.93</td>\n      <td>3.28</td>\n      <td>2.95</td>\n      <td>32.77</td>\n      <td>80.0</td>\n      <td>73.0</td>\n      <td>8</td>\n      <td>192.0</td>\n      <td>Nintendo</td>\n      <td>E</td>\n    </tr>\n    <tr>\n      <th>6</th>\n      <td>New Super Mario Bros.</td>\n      <td>DS</td>\n      <td>2006.0</td>\n      <td>Nintendo</td>\n      <td>11.28</td>\n      <td>9.14</td>\n      <td>6.50</td>\n      <td>2.88</td>\n      <td>29.80</td>\n      <td>89.0</td>\n      <td>65.0</td>\n      <td>8.5</td>\n      <td>431.0</td>\n      <td>Nintendo</td>\n      <td>E</td>\n    </tr>\n    <tr>\n      <th>7</th>\n      <td>Wii Play</td>\n      <td>Wii</td>\n      <td>2006.0</td>\n      <td>Nintendo</td>\n      <td>13.96</td>\n      <td>9.18</td>\n      <td>2.93</td>\n      <td>2.84</td>\n      <td>28.92</td>\n      <td>58.0</td>\n      <td>41.0</td>\n      <td>6.6</td>\n      <td>129.0</td>\n      <td>Nintendo</td>\n      <td>E</td>\n    </tr>\n  </tbody>\n</table>\n</div>",
      "text/plain": "                    Name Platform  Year_of_Release Publisher  NA_Sales  \\\n0             Wii Sports      Wii           2006.0  Nintendo     41.36   \n2         Mario Kart Wii      Wii           2008.0  Nintendo     15.68   \n3      Wii Sports Resort      Wii           2009.0  Nintendo     15.61   \n6  New Super Mario Bros.       DS           2006.0  Nintendo     11.28   \n7               Wii Play      Wii           2006.0  Nintendo     13.96   \n\n   EU_Sales  JP_Sales  Other_Sales  Global_Sales  Critic_Score  Critic_Count  \\\n0     28.96      3.77         8.45         82.53          76.0          51.0   \n2     12.76      3.79         3.29         35.52          82.0          73.0   \n3     10.93      3.28         2.95         32.77          80.0          73.0   \n6      9.14      6.50         2.88         29.80          89.0          65.0   \n7      9.18      2.93         2.84         28.92          58.0          41.0   \n\n  User_Score  User_Count Developer Rating  \n0          8       322.0  Nintendo      E  \n2        8.3       709.0  Nintendo      E  \n3          8       192.0  Nintendo      E  \n6        8.5       431.0  Nintendo      E  \n7        6.6       129.0  Nintendo      E  "
     },
     "execution_count": 94,
     "metadata": {},
     "output_type": "execute_result"
    }
   ],
   "source": [
    "# training set\n",
    "col_x = [col for col in df.columns\n",
    "      if col != 'Genre']\n",
    "X_train = df[col_x]\n",
    "\n",
    "X_train.head()"
   ]
  },
  {
   "cell_type": "code",
   "execution_count": 95,
   "metadata": {},
   "outputs": [],
   "source": [
    "# target variable\n",
    "target = ['Genre']\n",
    "y_train = df[target]"
   ]
  },
  {
   "cell_type": "code",
   "execution_count": 96,
   "metadata": {},
   "outputs": [],
   "source": [
    "encoder = LabelEncoder()\n",
    "\n",
    "s = (X_train.dtypes == 'object')\n",
    "\n",
    "cat_vars = list(s[s].index)\n"
   ]
  },
  {
   "cell_type": "code",
   "execution_count": 97,
   "metadata": {},
   "outputs": [
    {
     "data": {
      "text/plain": "Index(['Platform', 'Year_of_Release', 'Publisher', 'NA_Sales', 'EU_Sales',\n       'JP_Sales', 'Other_Sales', 'Global_Sales', 'Critic_Score',\n       'Critic_Count', 'User_Score', 'User_Count', 'Developer', 'Rating'],\n      dtype='object')"
     },
     "execution_count": 97,
     "metadata": {},
     "output_type": "execute_result"
    }
   ],
   "source": [
    "X_train = X_train.drop(columns=['Name'],axis=0) #Name variable doesn't hold much info\n",
    "X_train.columns"
   ]
  },
  {
   "cell_type": "code",
   "execution_count": 98,
   "metadata": {},
   "outputs": [
    {
     "data": {
      "text/html": "<div>\n<style scoped>\n    .dataframe tbody tr th:only-of-type {\n        vertical-align: middle;\n    }\n\n    .dataframe tbody tr th {\n        vertical-align: top;\n    }\n\n    .dataframe thead th {\n        text-align: right;\n    }\n</style>\n<table border=\"1\" class=\"dataframe\">\n  <thead>\n    <tr style=\"text-align: right;\">\n      <th></th>\n      <th>Platform</th>\n      <th>Publisher</th>\n      <th>User_Score</th>\n      <th>Developer</th>\n      <th>Rating</th>\n    </tr>\n  </thead>\n  <tbody>\n    <tr>\n      <th>0</th>\n      <td>True</td>\n      <td>True</td>\n      <td>True</td>\n      <td>True</td>\n      <td>True</td>\n    </tr>\n    <tr>\n      <th>2</th>\n      <td>True</td>\n      <td>True</td>\n      <td>True</td>\n      <td>True</td>\n      <td>True</td>\n    </tr>\n    <tr>\n      <th>3</th>\n      <td>True</td>\n      <td>True</td>\n      <td>True</td>\n      <td>True</td>\n      <td>True</td>\n    </tr>\n    <tr>\n      <th>6</th>\n      <td>True</td>\n      <td>True</td>\n      <td>True</td>\n      <td>True</td>\n      <td>True</td>\n    </tr>\n    <tr>\n      <th>7</th>\n      <td>True</td>\n      <td>True</td>\n      <td>True</td>\n      <td>True</td>\n      <td>True</td>\n    </tr>\n    <tr>\n      <th>...</th>\n      <td>...</td>\n      <td>...</td>\n      <td>...</td>\n      <td>...</td>\n      <td>...</td>\n    </tr>\n    <tr>\n      <th>16667</th>\n      <td>True</td>\n      <td>True</td>\n      <td>True</td>\n      <td>True</td>\n      <td>True</td>\n    </tr>\n    <tr>\n      <th>16677</th>\n      <td>True</td>\n      <td>True</td>\n      <td>True</td>\n      <td>True</td>\n      <td>True</td>\n    </tr>\n    <tr>\n      <th>16696</th>\n      <td>True</td>\n      <td>True</td>\n      <td>True</td>\n      <td>True</td>\n      <td>True</td>\n    </tr>\n    <tr>\n      <th>16700</th>\n      <td>True</td>\n      <td>True</td>\n      <td>True</td>\n      <td>True</td>\n      <td>True</td>\n    </tr>\n    <tr>\n      <th>16706</th>\n      <td>True</td>\n      <td>True</td>\n      <td>True</td>\n      <td>True</td>\n      <td>True</td>\n    </tr>\n  </tbody>\n</table>\n<p>6825 rows × 5 columns</p>\n</div>",
      "text/plain": "       Platform  Publisher  User_Score  Developer  Rating\n0          True       True        True       True    True\n2          True       True        True       True    True\n3          True       True        True       True    True\n6          True       True        True       True    True\n7          True       True        True       True    True\n...         ...        ...         ...        ...     ...\n16667      True       True        True       True    True\n16677      True       True        True       True    True\n16696      True       True        True       True    True\n16700      True       True        True       True    True\n16706      True       True        True       True    True\n\n[6825 rows x 5 columns]"
     },
     "execution_count": 98,
     "metadata": {},
     "output_type": "execute_result"
    }
   ],
   "source": [
    "#Now we have only the categorical variable\n",
    "s = (X_train.dtypes == 'object')\n",
    "cat_vars= list(s[s].index)\n",
    "\n",
    "X_train[cat_vars].notna()"
   ]
  },
  {
   "cell_type": "code",
   "execution_count": 99,
   "metadata": {},
   "outputs": [
    {
     "name": "stderr",
     "output_type": "stream",
     "text": "/home/psykik/anaconda3/envs/shogun/lib/python3.6/site-packages/sklearn/preprocessing/_label.py:251: DataConversionWarning: A column-vector y was passed when a 1d array was expected. Please change the shape of y to (n_samples, ), for example using ravel().\n  y = column_or_1d(y, warn=True)\n"
    }
   ],
   "source": [
    "#  Labeling properly the columns with object data type\n",
    "le = LabelEncoder()\n",
    "\n",
    "label_X = X_train.copy()\n",
    "for col in cat_vars:\n",
    "    label_X[col] = le.fit_transform(label_X[col])\n",
    "y_train = le.fit_transform(y_train)  #Convert to float    \n"
   ]
  },
  {
   "cell_type": "code",
   "execution_count": 100,
   "metadata": {},
   "outputs": [
    {
     "name": "stdout",
     "output_type": "stream",
     "text": "3.892184019088745\n"
    }
   ],
   "source": [
    "from time import time\n",
    "from sklearn import svm\n",
    "\n",
    "t0 = time()\n",
    "skr = svm.SVC()\n",
    "skr.fit(label_X, y_train)\n",
    "tsk1 = time() - t0\n",
    "print(tsk1)"
   ]
  },
  {
   "cell_type": "code",
   "execution_count": 101,
   "metadata": {},
   "outputs": [],
   "source": [
    "#Convert features and labels suitable for shogun\n",
    "label_X= label_X.to_numpy().astype(float)\n",
    "y_train = y_train.astype(float)\n",
    "y_train = y_train.reshape(y_train.shape[0],) #reshape to (num_samples,)"
   ]
  },
  {
   "cell_type": "code",
   "execution_count": 104,
   "metadata": {},
   "outputs": [
    {
     "ename": "NameError",
     "evalue": "name 'ClassificationLabels' is not defined",
     "output_type": "error",
     "traceback": [
      "\u001b[0;31m---------------------------------------------------------------------------\u001b[0m",
      "\u001b[0;31mNameError\u001b[0m                                 Traceback (most recent call last)",
      "\u001b[0;32m<ipython-input-104-80f59ad71bc1>\u001b[0m in \u001b[0;36m<module>\u001b[0;34m\u001b[0m\n\u001b[1;32m      2\u001b[0m \u001b[0;34m\u001b[0m\u001b[0m\n\u001b[1;32m      3\u001b[0m \u001b[0mtrain_features\u001b[0m \u001b[0;34m=\u001b[0m \u001b[0mRealFeatures\u001b[0m\u001b[0;34m(\u001b[0m\u001b[0mlabel_X\u001b[0m\u001b[0;34m.\u001b[0m\u001b[0mT\u001b[0m\u001b[0;34m)\u001b[0m\u001b[0;34m\u001b[0m\u001b[0;34m\u001b[0m\u001b[0m\n\u001b[0;32m----> 4\u001b[0;31m \u001b[0mlabels_train\u001b[0m \u001b[0;34m=\u001b[0m \u001b[0mClassificationLabels\u001b[0m\u001b[0;34m(\u001b[0m\u001b[0my_train\u001b[0m\u001b[0;34m)\u001b[0m\u001b[0;34m\u001b[0m\u001b[0;34m\u001b[0m\u001b[0m\n\u001b[0m\u001b[1;32m      5\u001b[0m \u001b[0;34m\u001b[0m\u001b[0m\n\u001b[1;32m      6\u001b[0m \u001b[0mt0\u001b[0m \u001b[0;34m=\u001b[0m \u001b[0mtime\u001b[0m\u001b[0;34m(\u001b[0m\u001b[0;34m)\u001b[0m\u001b[0;34m\u001b[0m\u001b[0;34m\u001b[0m\u001b[0m\n",
      "\u001b[0;31mNameError\u001b[0m: name 'ClassificationLabels' is not defined"
     ]
    }
   ],
   "source": [
    "from shogun import *\n",
    "\n",
    "train_features = RealFeatures(label_X.T)\n",
    "labels_train = ClassificationLabels(y_train)\n",
    "\n",
    "t0 = time()\n",
    "C = 1.0\n",
    "epsilon = 0.001\n",
    "gauss_kernel = GaussianKernel(train_features, train_features, 15)\n",
    "\n",
    "svm = MulticlassLibSVM(C, gauss_kernel, labels_train)\n",
    "svm.set_epsilon(epsilon)\n",
    "\n",
    "svm.train()\n",
    "tsg1= time() - t0\n",
    "\n",
    "\n",
    "print(tsg1)\n",
    "\n",
    "\n",
    "\n"
   ]
  }
 ]
}