{
 "cells": [
  {
   "cell_type": "markdown",
   "metadata": {},
   "source": [
    "## Support Vector Classifier comparison between Shogun and Sklearn.\n",
    "\n",
    "We will do a comparison between Shogun's and SKlearn SVC implementations using a standard multi-class data-set using sklearn. Our dataset consists of  examples in which we will use \"m\" examples which will be increased progressively. \n",
    "\n",
    "\n",
    "\n",
    "Let's start with the imports!"
   ]
  },
  {
   "cell_type": "code",
   "execution_count": 28,
   "metadata": {},
   "outputs": [],
   "source": [
    "import shogun as sg\n",
    "import numpy as np\n",
    "import pandas as pd\n",
    "import matplotlib.pyplot as plt\n",
    "from sklearn.impute import SimpleImputer\n",
    "from sklearn.preprocessing import LabelEncoder\n",
    "from time import time\n",
    "from sklearn import svm\n",
    "from sklearn.model_selection import train_test_split\n",
    "from sklearn.metrics import accuracy_score,f1_score\n",
    "\n",
    "#Data reading\n",
    "from sklearn.datasets import load_iris"
   ]
  },
  {
   "cell_type": "markdown",
   "metadata": {},
   "source": [
    "###### READ THE CSV FILE  \n",
    "Let's explore the dataset and see it's components. "
   ]
  },
  {
   "cell_type": "code",
   "execution_count": 32,
   "metadata": {},
   "outputs": [],
   "source": [
    "iris = load_iris()\n",
    "\n",
    "df = pd.DataFrame(data= np.c_[iris['data'], iris['target']],\n",
    "                     columns= iris['feature_names'] + ['target'])"
   ]
  },
  {
   "cell_type": "code",
   "execution_count": 33,
   "metadata": {},
   "outputs": [
    {
     "data": {
      "text/html": [
       "<div>\n",
       "<style scoped>\n",
       "    .dataframe tbody tr th:only-of-type {\n",
       "        vertical-align: middle;\n",
       "    }\n",
       "\n",
       "    .dataframe tbody tr th {\n",
       "        vertical-align: top;\n",
       "    }\n",
       "\n",
       "    .dataframe thead th {\n",
       "        text-align: right;\n",
       "    }\n",
       "</style>\n",
       "<table border=\"1\" class=\"dataframe\">\n",
       "  <thead>\n",
       "    <tr style=\"text-align: right;\">\n",
       "      <th></th>\n",
       "      <th>sepal length (cm)</th>\n",
       "      <th>sepal width (cm)</th>\n",
       "      <th>petal length (cm)</th>\n",
       "      <th>petal width (cm)</th>\n",
       "      <th>target</th>\n",
       "    </tr>\n",
       "  </thead>\n",
       "  <tbody>\n",
       "    <tr>\n",
       "      <th>0</th>\n",
       "      <td>5.1</td>\n",
       "      <td>3.5</td>\n",
       "      <td>1.4</td>\n",
       "      <td>0.2</td>\n",
       "      <td>0.0</td>\n",
       "    </tr>\n",
       "    <tr>\n",
       "      <th>1</th>\n",
       "      <td>4.9</td>\n",
       "      <td>3.0</td>\n",
       "      <td>1.4</td>\n",
       "      <td>0.2</td>\n",
       "      <td>0.0</td>\n",
       "    </tr>\n",
       "    <tr>\n",
       "      <th>2</th>\n",
       "      <td>4.7</td>\n",
       "      <td>3.2</td>\n",
       "      <td>1.3</td>\n",
       "      <td>0.2</td>\n",
       "      <td>0.0</td>\n",
       "    </tr>\n",
       "    <tr>\n",
       "      <th>3</th>\n",
       "      <td>4.6</td>\n",
       "      <td>3.1</td>\n",
       "      <td>1.5</td>\n",
       "      <td>0.2</td>\n",
       "      <td>0.0</td>\n",
       "    </tr>\n",
       "    <tr>\n",
       "      <th>4</th>\n",
       "      <td>5.0</td>\n",
       "      <td>3.6</td>\n",
       "      <td>1.4</td>\n",
       "      <td>0.2</td>\n",
       "      <td>0.0</td>\n",
       "    </tr>\n",
       "  </tbody>\n",
       "</table>\n",
       "</div>"
      ],
      "text/plain": [
       "   sepal length (cm)  sepal width (cm)  petal length (cm)  petal width (cm)  \\\n",
       "0                5.1               3.5                1.4               0.2   \n",
       "1                4.9               3.0                1.4               0.2   \n",
       "2                4.7               3.2                1.3               0.2   \n",
       "3                4.6               3.1                1.5               0.2   \n",
       "4                5.0               3.6                1.4               0.2   \n",
       "\n",
       "   target  \n",
       "0     0.0  \n",
       "1     0.0  \n",
       "2     0.0  \n",
       "3     0.0  \n",
       "4     0.0  "
      ]
     },
     "execution_count": 33,
     "metadata": {},
     "output_type": "execute_result"
    }
   ],
   "source": [
    "df.head()"
   ]
  },
  {
   "cell_type": "code",
   "execution_count": 39,
   "metadata": {},
   "outputs": [
    {
     "data": {
      "text/plain": [
       "(100, 4)"
      ]
     },
     "execution_count": 39,
     "metadata": {},
     "output_type": "execute_result"
    }
   ],
   "source": [
    "#Data preprocessing\n",
    "def process_data(df):\n",
    "            df=df.to_numpy().astype(float)\n",
    "            X = df[:,:-1]\n",
    "            y=df[:,-1]\n",
    "            return X,y\n",
    "\n",
    "        \n",
    "X,y = process_data(df)\n",
    "\n",
    "#Split data\n",
    "X_train, X_test, y_train, y_test = train_test_split(X, y, test_size=0.33, random_state=42)\n",
    "X_train.shape"
   ]
  },
  {
   "cell_type": "code",
   "execution_count": 37,
   "metadata": {},
   "outputs": [],
   "source": [
    "#Parameters for plotting\n",
    "time_skl = []\n",
    "time_sgn = []\n",
    "time_diff = []\n",
    "accuracy_skl=[]\n",
    "accuracy_sgn=[]\n",
    "size = [1000,2000,3000,4000,X_train.shape[0]]"
   ]
  },
  {
   "cell_type": "code",
   "execution_count": 38,
   "metadata": {},
   "outputs": [
    {
     "name": "stdout",
     "output_type": "stream",
     "text": [
      "1000\n",
      "Sklearn time:  0.3149592876434326\n",
      "SKL Accuracy: 1.0\n",
      "Shogun time: 0.08719348907470703\n",
      "Shogun Accuracy: 0.28\n",
      "\n",
      "\n",
      "2000\n",
      "Sklearn time:  0.0009717941284179688\n",
      "SKL Accuracy: 1.0\n",
      "Shogun time: 0.007354736328125\n",
      "Shogun Accuracy: 0.28\n",
      "\n",
      "\n",
      "3000\n",
      "Sklearn time:  0.0015337467193603516\n",
      "SKL Accuracy: 1.0\n",
      "Shogun time: 0.01121211051940918\n",
      "Shogun Accuracy: 0.28\n",
      "\n",
      "\n",
      "4000\n",
      "Sklearn time:  0.0007975101470947266\n",
      "SKL Accuracy: 1.0\n",
      "Shogun time: 0.010404825210571289\n",
      "Shogun Accuracy: 0.28\n",
      "\n",
      "\n",
      "100\n",
      "Sklearn time:  0.0007469654083251953\n",
      "SKL Accuracy: 1.0\n",
      "Shogun time: 0.010207653045654297\n",
      "Shogun Accuracy: 0.28\n",
      "\n",
      "\n"
     ]
    }
   ],
   "source": [
    "for m in size:\n",
    "    print(m)\n",
    "\n",
    "\n",
    "#SKLEARN\n",
    "    X_train_temp = X_train[:m]\n",
    "    y_train_temp = y_train[:m]\n",
    "    skr = svm.SVC()\n",
    "\n",
    "    t0 = time()\n",
    "    skr.fit(X_train_temp, y_train_temp)\n",
    "    tsk1 = time() - t0\n",
    "\n",
    "    #Predict on test\n",
    "    y_predict = skr.predict(X_test)\n",
    "    err_skl = accuracy_score(y_test,y_predict)\n",
    "    accuracy_skl.append(err_skl) #Accuracy score on entire testset\n",
    "    \n",
    "    \n",
    "\n",
    "\n",
    "#SHOGUN\n",
    "    train_features = sg.features(X_train_temp.T)\n",
    "    labels_train = sg.MulticlassLabels(y_train_temp)\n",
    "\n",
    "    \n",
    "    C = 1.0\n",
    "    gauss_kernel = sg.kernel(\"GaussianKernel\", log_width=0.0)\n",
    "    sg_svm=sg.machine(\"MulticlassLibSVM\", C=C, kernel=gauss_kernel, labels=labels_train)\n",
    "    \n",
    "\n",
    "\n",
    "    t0 = time()\n",
    "    sg_svm.train(train_features)\n",
    "    tsg1= time() - t0\n",
    "\n",
    "    #Apply to test set\n",
    "    labels_predict=sg_svm.apply_multiclass(sg.features(X_test.T))\n",
    "    labels_predict = np.array(labels_predict.get_labels())\n",
    "    err_sgn = accuracy_score(y_test,labels_predict)\n",
    "    accuracy_sgn.append(err_sgn)\n",
    "\n",
    "    \n",
    "    print(\"Sklearn time:  \" + str(tsk1))\n",
    "    print(\"SKL Accuracy: \" + str(err_skl))\n",
    "    print(\"Shogun time: \" + str(tsg1))\n",
    "    print(\"Shogun Accuracy: \" + str(err_sgn))\n",
    "    print('\\n')\n",
    "    \n",
    "    time_skl.append(tsk1)\n",
    "    time_sgn.append(tsg1)\n",
    "    time_diff.append(tsk1-tsg1)\n"
   ]
  },
  {
   "cell_type": "code",
   "execution_count": 40,
   "metadata": {},
   "outputs": [
    {
     "data": {
      "text/plain": [
       "<matplotlib.legend.Legend at 0x7f3a2d47f7b8>"
      ]
     },
     "execution_count": 40,
     "metadata": {},
     "output_type": "execute_result"
    },
    {
     "data": {
      "image/png": "[encoded data removed]",
      "text/plain": [
       "<Figure size 720x504 with 1 Axes>"
      ]
     },
     "metadata": {
      "needs_background": "light"
     },
     "output_type": "display_data"
    }
   ],
   "source": [
    "# PLOTTING ComputationTime\n",
    "plt.figure(figsize=(10,7))\n",
    "plt.title('SVM Computation Time: SKLEARN VS SHOGUN')\n",
    "plt.plot(size,time_skl,color='red',label='SKlearn')\n",
    "plt.plot(size,time_sgn,color='yellow',label='Shogun')\n",
    "plt.xlabel('Data-set size')\n",
    "plt.ylabel('time taken')\n",
    "plt.legend()"
   ]
  },
  {
   "cell_type": "code",
   "execution_count": 41,
   "metadata": {},
   "outputs": [
    {
     "data": {
      "text/plain": [
       "<matplotlib.legend.Legend at 0x7f3a2d73d1d0>"
      ]
     },
     "execution_count": 41,
     "metadata": {},
     "output_type": "execute_result"
    },
    {
     "data": {
      "image/png": "[encoded data removed]",
      "text/plain": [
       "<Figure size 720x504 with 1 Axes>"
      ]
     },
     "metadata": {
      "needs_background": "light"
     },
     "output_type": "display_data"
    }
   ],
   "source": [
    "# PLOTTING Accuracy\n",
    "plt.figure(figsize=(10,7))\n",
    "plt.title('Accuracy plot')\n",
    "plt.plot(size,accuracy_skl,color='blue',label='SKlearn')\n",
    "plt.plot(size,accuracy_sgn,color='green',label='Shogun')\n",
    "plt.xlabel('Data-set size')\n",
    "plt.ylabel('Accuracy')\n",
    "plt.legend()"
   ]
  }
 ],
 "metadata": {
  "file_extension": ".py",
  "kernelspec": {
   "display_name": "Python 3.6.10 64-bit ('shogun': conda)",
   "language": "python",
   "name": "python361064bitshoguncondab2320d49398149f5913e1398ff058ea7"
  },
  "language_info": {
   "codemirror_mode": {
    "name": "ipython",
    "version": 3
   },
   "file_extension": ".py",
   "mimetype": "text/x-python",
   "name": "python",
   "nbconvert_exporter": "python",
   "pygments_lexer": "ipython3",
   "version": "3.6.7"
  },
  "mimetype": "text/x-python",
  "name": "python",
  "npconvert_exporter": "python",
  "pygments_lexer": "ipython2",
  "version": 2
 },
 "nbformat": 4,
 "nbformat_minor": 2
}
