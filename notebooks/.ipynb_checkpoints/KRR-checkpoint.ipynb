{
 "cells": [
  {
   "cell_type": "code",
   "execution_count": 1,
   "metadata": {},
   "outputs": [
    {
     "ename": "ModuleNotFoundError",
     "evalue": "No module named 'matplotlib'",
     "output_type": "error",
     "traceback": [
      "\u001b[1;31m---------------------------------------------------------------------------\u001b[0m",
      "\u001b[1;31mModuleNotFoundError\u001b[0m                       Traceback (most recent call last)",
      "\u001b[1;32m<ipython-input-1-71a33a03cfeb>\u001b[0m in \u001b[0;36m<module>\u001b[1;34m\u001b[0m\n\u001b[0;32m      2\u001b[0m \u001b[1;32mimport\u001b[0m \u001b[0mnumpy\u001b[0m \u001b[1;32mas\u001b[0m \u001b[0mnp\u001b[0m\u001b[1;33m\u001b[0m\u001b[1;33m\u001b[0m\u001b[0m\n\u001b[0;32m      3\u001b[0m \u001b[1;32mimport\u001b[0m \u001b[0mpandas\u001b[0m \u001b[1;32mas\u001b[0m \u001b[0mpd\u001b[0m\u001b[1;33m\u001b[0m\u001b[1;33m\u001b[0m\u001b[0m\n\u001b[1;32m----> 4\u001b[1;33m \u001b[1;32mimport\u001b[0m \u001b[0mmatplotlib\u001b[0m\u001b[1;33m.\u001b[0m\u001b[0mpyplot\u001b[0m \u001b[1;32mas\u001b[0m \u001b[0mplt\u001b[0m\u001b[1;33m\u001b[0m\u001b[1;33m\u001b[0m\u001b[0m\n\u001b[0m\u001b[0;32m      5\u001b[0m \u001b[1;32mfrom\u001b[0m \u001b[0msklearn\u001b[0m\u001b[1;33m.\u001b[0m\u001b[0mimpute\u001b[0m \u001b[1;32mimport\u001b[0m \u001b[0mSimpleImputer\u001b[0m\u001b[1;33m\u001b[0m\u001b[1;33m\u001b[0m\u001b[0m\n\u001b[0;32m      6\u001b[0m \u001b[1;32mfrom\u001b[0m \u001b[0msklearn\u001b[0m\u001b[1;33m.\u001b[0m\u001b[0mpreprocessing\u001b[0m \u001b[1;32mimport\u001b[0m \u001b[0mLabelEncoder\u001b[0m\u001b[1;33m\u001b[0m\u001b[1;33m\u001b[0m\u001b[0m\n",
      "\u001b[1;31mModuleNotFoundError\u001b[0m: No module named 'matplotlib'"
     ]
    }
   ],
   "source": [
    "from shogun import *\n",
    "import numpy as np\n",
    "import pandas as pd\n",
    "import matplotlib.pyplot as plt\n",
    "from sklearn.impute import SimpleImputer\n",
    "from sklearn.preprocessing import LabelEncoder\n",
    "from sklearn import datasets"
   ]
  },
  {
   "cell_type": "code",
   "execution_count": null,
   "metadata": {},
   "outputs": [],
   "source": [
    "df = pd.read_csv('../data/nyc-sales.csv')"
   ]
  },
  {
   "cell_type": "code",
   "execution_count": null,
   "metadata": {},
   "outputs": [],
   "source": [
    "for i in range(len(df)):\n",
    "    if(df.loc[i,'SALE PRICE'] == ' -  '):\n",
    "        df.at[i,'SALE PRICE'] = np.nan\n",
    "        \n",
    "# test is the data with 'SALE PRICE' == NaN\n",
    "df_test = df[df['SALE PRICE'].isna()]\n",
    "\n",
    "#train is the cleaned data\n",
    "df_train = df[df['SALE PRICE'].notna()]\n"
   ]
  },
  {
   "cell_type": "code",
   "execution_count": null,
   "metadata": {},
   "outputs": [],
   "source": [
    "# training set\n",
    "col_x = [col for col in df.columns\n",
    "      if col != 'SALE PRICE']\n",
    "X_train = df_train[col_x]"
   ]
  },
  {
   "cell_type": "code",
   "execution_count": null,
   "metadata": {},
   "outputs": [],
   "source": [
    "# target variable\n",
    "target = ['SALE PRICE']\n",
    "y_train = df_train[target]\n"
   ]
  },
  {
   "cell_type": "code",
   "execution_count": null,
   "metadata": {},
   "outputs": [],
   "source": [
    "# the string value that needed to be changed\n",
    "#     if(val==[' -  ']):\n",
    "\n",
    "# Test sets\n",
    "y_test = df_test[target]\n",
    "X_test = df_test[col_x]"
   ]
  },
  {
   "cell_type": "code",
   "execution_count": null,
   "metadata": {},
   "outputs": [],
   "source": [
    "# imputer not required\n",
    "# myimputer = SimpleImputer(strategy='median')  \n",
    "\n",
    "encoder = LabelEncoder()\n",
    "\n",
    "s = (X_train.dtypes == 'object')\n",
    "\n",
    "cat_vars = list(s[s].index)\n",
    "\n",
    "# print(cat_vars)"
   ]
  },
  {
   "cell_type": "code",
   "execution_count": null,
   "metadata": {},
   "outputs": [],
   "source": [
    "# drop the unwanted columns\n",
    "X_new = X_train.drop(columns=['Unnamed: 0','NEIGHBORHOOD','ADDRESS','EASE-MENT','BUILDING CLASS CATEGORY','SALE DATE','APARTMENT NUMBER'])\n",
    "\n",
    "# X_new.head()"
   ]
  },
  {
   "cell_type": "code",
   "execution_count": null,
   "metadata": {},
   "outputs": [],
   "source": [
    "s = (X_new.dtypes == 'object')\n",
    "cat_varsx = list(s[s].index)\n",
    "# print(cat_varsx)"
   ]
  },
  {
   "cell_type": "code",
   "execution_count": null,
   "metadata": {},
   "outputs": [],
   "source": [
    "#  Labeling properly the columns with object data type\n",
    "le = LabelEncoder()\n",
    "\n",
    "label_X = X_new.copy()\n",
    "for col in cat_varsx:\n",
    "    label_X[col] = le.fit_transform(X_new[col])\n",
    "    \n",
    "# label_X contains the cleaned up training set\n"
   ]
  },
  {
   "cell_type": "code",
   "execution_count": null,
   "metadata": {},
   "outputs": [],
   "source": [
    "#Dropping some data to account for Memory error, see issue #2\n",
    "label_X = label_X[:10000]\n",
    "y_train = y_train[:10000]\n"
   ]
  },
  {
   "cell_type": "code",
   "execution_count": null,
   "metadata": {},
   "outputs": [],
   "source": [
    "# contains the error\n",
    "\n",
    "from time import time\n",
    "from sklearn.kernel_ridge import KernelRidge\n",
    "\n",
    "t0 = time()\n",
    "skr = KernelRidge(kernel='rbf', gamma=0.1)\n",
    "skr.fit(label_X, y_train)\n",
    "tsk1 = time() - t0\n",
    "print(tsk1)"
   ]
  },
  {
   "cell_type": "code",
   "execution_count": null,
   "metadata": {},
   "outputs": [],
   "source": [
    "#Convert features and labels suitable for shogun\n",
    "\n",
    "label_X= label_X.to_numpy().astype(float)\n",
    "y_train = y_train.to_numpy().astype(float)\n",
    "y_train = y_train.reshape(y_train.shape[0],) #reshape to (num_samples,)"
   ]
  },
  {
   "cell_type": "code",
   "execution_count": null,
   "metadata": {},
   "outputs": [],
   "source": [
    "from shogun import *\n",
    "\n",
    "\n",
    "train_features = RealFeatures(label_X.T)\n",
    "labels_train = RegressionLabels(y_train)\n",
    "\n",
    "\n",
    "width = 0.1\n",
    "kernel = GaussianKernel(train_features, train_features, width)\n",
    "tau = 1\n",
    "\n",
    "t0=time()\n",
    "krr = KernelRidgeRegression(tau, kernel, labels_train)\n",
    "krr.train()\n",
    "tsg1=time()-t0\n",
    "\n",
    "print(tsg1) "
   ]
  },
  {
   "cell_type": "code",
   "execution_count": null,
   "metadata": {},
   "outputs": [],
   "source": [
    "#Final remarks\n",
    "print('----------------------------------------')\n",
    "print(\"############ Final remarks  ############\")\n",
    "print('----------------------------------------')\n",
    "print(\"\\n\")\n",
    "print(\"Sklearn training time: \" + str(tsk1))\n",
    "print(\"Shogun training time: \" + str(tsg1))\n",
    "print(\"Performance gap: \" + str(tsg1 - tsk1))\n",
    "print(\"\\n\")\n",
    "print('----------------------------------------')\n"
   ]
  }
 ],
 "metadata": {
  "file_extension": ".py",
  "kernelspec": {
   "display_name": "Python 3",
   "language": "python",
   "name": "python3"
  },
  "language_info": {
   "codemirror_mode": {
    "name": "ipython",
    "version": 3
   },
   "file_extension": ".py",
   "mimetype": "text/x-python",
   "name": "python",
   "nbconvert_exporter": "python",
   "pygments_lexer": "ipython3",
   "version": "3.6.10"
  },
  "mimetype": "text/x-python",
  "name": "python",
  "npconvert_exporter": "python",
  "pygments_lexer": "ipython2",
  "version": 2
 },
 "nbformat": 4,
 "nbformat_minor": 2
}
